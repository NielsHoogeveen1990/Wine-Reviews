{
 "cells": [
  {
   "cell_type": "markdown",
   "metadata": {},
   "source": [
    "# Wine reviews analysis and prediction"
   ]
  },
  {
   "cell_type": "code",
   "execution_count": 474,
   "metadata": {},
   "outputs": [],
   "source": [
    "import numpy as np\n",
    "import pandas as pd\n",
    "import matplotlib.pyplot as plt\n",
    "import seaborn as sns\n",
    "%matplotlib inline\n",
    "import sklearn \n",
    "import warnings\n",
    "warnings.filterwarnings('ignore')\n",
    "pd.set_option('display.width', 500)\n",
    "pd.set_option('display.max_columns', 100) "
   ]
  },
  {
   "cell_type": "markdown",
   "metadata": {},
   "source": [
    "# EDA"
   ]
  },
  {
   "cell_type": "code",
   "execution_count": 475,
   "metadata": {},
   "outputs": [],
   "source": [
    "df = pd.read_csv('winemag-data-130k-v2.csv')"
   ]
  },
  {
   "cell_type": "code",
   "execution_count": 476,
   "metadata": {},
   "outputs": [
    {
     "data": {
      "text/plain": [
       "(129971, 14)"
      ]
     },
     "execution_count": 476,
     "metadata": {},
     "output_type": "execute_result"
    }
   ],
   "source": [
    "df.shape"
   ]
  },
  {
   "cell_type": "code",
   "execution_count": 477,
   "metadata": {},
   "outputs": [
    {
     "data": {
      "text/html": [
       "<div>\n",
       "<style scoped>\n",
       "    .dataframe tbody tr th:only-of-type {\n",
       "        vertical-align: middle;\n",
       "    }\n",
       "\n",
       "    .dataframe tbody tr th {\n",
       "        vertical-align: top;\n",
       "    }\n",
       "\n",
       "    .dataframe thead th {\n",
       "        text-align: right;\n",
       "    }\n",
       "</style>\n",
       "<table border=\"1\" class=\"dataframe\">\n",
       "  <thead>\n",
       "    <tr style=\"text-align: right;\">\n",
       "      <th></th>\n",
       "      <th>Unnamed: 0</th>\n",
       "      <th>country</th>\n",
       "      <th>description</th>\n",
       "      <th>designation</th>\n",
       "      <th>points</th>\n",
       "      <th>price</th>\n",
       "      <th>province</th>\n",
       "      <th>region_1</th>\n",
       "      <th>region_2</th>\n",
       "      <th>taster_name</th>\n",
       "      <th>taster_twitter_handle</th>\n",
       "      <th>title</th>\n",
       "      <th>variety</th>\n",
       "      <th>winery</th>\n",
       "    </tr>\n",
       "  </thead>\n",
       "  <tbody>\n",
       "    <tr>\n",
       "      <th>0</th>\n",
       "      <td>0</td>\n",
       "      <td>Italy</td>\n",
       "      <td>Aromas include tropical fruit, broom, brimston...</td>\n",
       "      <td>Vulkà Bianco</td>\n",
       "      <td>87</td>\n",
       "      <td>NaN</td>\n",
       "      <td>Sicily &amp; Sardinia</td>\n",
       "      <td>Etna</td>\n",
       "      <td>NaN</td>\n",
       "      <td>Kerin O’Keefe</td>\n",
       "      <td>@kerinokeefe</td>\n",
       "      <td>Nicosia 2013 Vulkà Bianco  (Etna)</td>\n",
       "      <td>White Blend</td>\n",
       "      <td>Nicosia</td>\n",
       "    </tr>\n",
       "    <tr>\n",
       "      <th>1</th>\n",
       "      <td>1</td>\n",
       "      <td>Portugal</td>\n",
       "      <td>This is ripe and fruity, a wine that is smooth...</td>\n",
       "      <td>Avidagos</td>\n",
       "      <td>87</td>\n",
       "      <td>15.0</td>\n",
       "      <td>Douro</td>\n",
       "      <td>NaN</td>\n",
       "      <td>NaN</td>\n",
       "      <td>Roger Voss</td>\n",
       "      <td>@vossroger</td>\n",
       "      <td>Quinta dos Avidagos 2011 Avidagos Red (Douro)</td>\n",
       "      <td>Portuguese Red</td>\n",
       "      <td>Quinta dos Avidagos</td>\n",
       "    </tr>\n",
       "    <tr>\n",
       "      <th>2</th>\n",
       "      <td>2</td>\n",
       "      <td>US</td>\n",
       "      <td>Tart and snappy, the flavors of lime flesh and...</td>\n",
       "      <td>NaN</td>\n",
       "      <td>87</td>\n",
       "      <td>14.0</td>\n",
       "      <td>Oregon</td>\n",
       "      <td>Willamette Valley</td>\n",
       "      <td>Willamette Valley</td>\n",
       "      <td>Paul Gregutt</td>\n",
       "      <td>@paulgwine</td>\n",
       "      <td>Rainstorm 2013 Pinot Gris (Willamette Valley)</td>\n",
       "      <td>Pinot Gris</td>\n",
       "      <td>Rainstorm</td>\n",
       "    </tr>\n",
       "    <tr>\n",
       "      <th>3</th>\n",
       "      <td>3</td>\n",
       "      <td>US</td>\n",
       "      <td>Pineapple rind, lemon pith and orange blossom ...</td>\n",
       "      <td>Reserve Late Harvest</td>\n",
       "      <td>87</td>\n",
       "      <td>13.0</td>\n",
       "      <td>Michigan</td>\n",
       "      <td>Lake Michigan Shore</td>\n",
       "      <td>NaN</td>\n",
       "      <td>Alexander Peartree</td>\n",
       "      <td>NaN</td>\n",
       "      <td>St. Julian 2013 Reserve Late Harvest Riesling ...</td>\n",
       "      <td>Riesling</td>\n",
       "      <td>St. Julian</td>\n",
       "    </tr>\n",
       "    <tr>\n",
       "      <th>4</th>\n",
       "      <td>4</td>\n",
       "      <td>US</td>\n",
       "      <td>Much like the regular bottling from 2012, this...</td>\n",
       "      <td>Vintner's Reserve Wild Child Block</td>\n",
       "      <td>87</td>\n",
       "      <td>65.0</td>\n",
       "      <td>Oregon</td>\n",
       "      <td>Willamette Valley</td>\n",
       "      <td>Willamette Valley</td>\n",
       "      <td>Paul Gregutt</td>\n",
       "      <td>@paulgwine</td>\n",
       "      <td>Sweet Cheeks 2012 Vintner's Reserve Wild Child...</td>\n",
       "      <td>Pinot Noir</td>\n",
       "      <td>Sweet Cheeks</td>\n",
       "    </tr>\n",
       "  </tbody>\n",
       "</table>\n",
       "</div>"
      ],
      "text/plain": [
       "   Unnamed: 0   country                                        description                         designation  points  price           province             region_1           region_2         taster_name taster_twitter_handle                                              title         variety               winery\n",
       "0           0     Italy  Aromas include tropical fruit, broom, brimston...                        Vulkà Bianco      87    NaN  Sicily & Sardinia                 Etna                NaN       Kerin O’Keefe          @kerinokeefe                  Nicosia 2013 Vulkà Bianco  (Etna)     White Blend              Nicosia\n",
       "1           1  Portugal  This is ripe and fruity, a wine that is smooth...                            Avidagos      87   15.0              Douro                  NaN                NaN          Roger Voss            @vossroger      Quinta dos Avidagos 2011 Avidagos Red (Douro)  Portuguese Red  Quinta dos Avidagos\n",
       "2           2        US  Tart and snappy, the flavors of lime flesh and...                                 NaN      87   14.0             Oregon    Willamette Valley  Willamette Valley        Paul Gregutt           @paulgwine       Rainstorm 2013 Pinot Gris (Willamette Valley)      Pinot Gris            Rainstorm\n",
       "3           3        US  Pineapple rind, lemon pith and orange blossom ...                Reserve Late Harvest      87   13.0           Michigan  Lake Michigan Shore                NaN  Alexander Peartree                   NaN  St. Julian 2013 Reserve Late Harvest Riesling ...        Riesling           St. Julian\n",
       "4           4        US  Much like the regular bottling from 2012, this...  Vintner's Reserve Wild Child Block      87   65.0             Oregon    Willamette Valley  Willamette Valley        Paul Gregutt           @paulgwine   Sweet Cheeks 2012 Vintner's Reserve Wild Child...      Pinot Noir         Sweet Cheeks"
      ]
     },
     "execution_count": 477,
     "metadata": {},
     "output_type": "execute_result"
    }
   ],
   "source": [
    "df.head(5)"
   ]
  },
  {
   "cell_type": "code",
   "execution_count": 478,
   "metadata": {},
   "outputs": [
    {
     "data": {
      "text/plain": [
       "11131"
      ]
     },
     "execution_count": 478,
     "metadata": {},
     "output_type": "execute_result"
    }
   ],
   "source": [
    "# Check amount of duplicates of 'title'\n",
    "df.duplicated('title').sum()"
   ]
  },
  {
   "cell_type": "code",
   "execution_count": 479,
   "metadata": {},
   "outputs": [],
   "source": [
    "# Drop duplicates of 'title'\n",
    "df = df.drop_duplicates(['title'], keep='first')"
   ]
  },
  {
   "cell_type": "code",
   "execution_count": 480,
   "metadata": {},
   "outputs": [
    {
     "data": {
      "text/plain": [
       "(118840, 14)"
      ]
     },
     "execution_count": 480,
     "metadata": {},
     "output_type": "execute_result"
    }
   ],
   "source": [
    "df.shape"
   ]
  },
  {
   "cell_type": "markdown",
   "metadata": {},
   "source": [
    "After removing the title duplicates, 118,840 rows are left."
   ]
  },
  {
   "cell_type": "markdown",
   "metadata": {},
   "source": [
    "### Quick analysis "
   ]
  },
  {
   "cell_type": "code",
   "execution_count": 481,
   "metadata": {},
   "outputs": [
    {
     "name": "stdout",
     "output_type": "stream",
     "text": [
      "<class 'pandas.core.frame.DataFrame'>\n",
      "Int64Index: 118840 entries, 0 to 129970\n",
      "Data columns (total 14 columns):\n",
      "Unnamed: 0               118840 non-null int64\n",
      "country                  118781 non-null object\n",
      "description              118840 non-null object\n",
      "designation              84551 non-null object\n",
      "points                   118840 non-null int64\n",
      "price                    110581 non-null float64\n",
      "province                 118781 non-null object\n",
      "region_1                 99346 non-null object\n",
      "region_2                 46568 non-null object\n",
      "taster_name              94107 non-null object\n",
      "taster_twitter_handle    89587 non-null object\n",
      "title                    118840 non-null object\n",
      "variety                  118839 non-null object\n",
      "winery                   118840 non-null object\n",
      "dtypes: float64(1), int64(2), object(11)\n",
      "memory usage: 13.6+ MB\n"
     ]
    }
   ],
   "source": [
    "df.info()"
   ]
  },
  {
   "cell_type": "markdown",
   "metadata": {},
   "source": [
    "In the dataframe, there are 118,840 rows with 12 independent variables and one target variable: points."
   ]
  },
  {
   "cell_type": "code",
   "execution_count": 482,
   "metadata": {},
   "outputs": [
    {
     "data": {
      "text/html": [
       "<div>\n",
       "<style scoped>\n",
       "    .dataframe tbody tr th:only-of-type {\n",
       "        vertical-align: middle;\n",
       "    }\n",
       "\n",
       "    .dataframe tbody tr th {\n",
       "        vertical-align: top;\n",
       "    }\n",
       "\n",
       "    .dataframe thead th {\n",
       "        text-align: right;\n",
       "    }\n",
       "</style>\n",
       "<table border=\"1\" class=\"dataframe\">\n",
       "  <thead>\n",
       "    <tr style=\"text-align: right;\">\n",
       "      <th></th>\n",
       "      <th>Unnamed: 0</th>\n",
       "      <th>points</th>\n",
       "      <th>price</th>\n",
       "    </tr>\n",
       "  </thead>\n",
       "  <tbody>\n",
       "    <tr>\n",
       "      <th>count</th>\n",
       "      <td>118840.000000</td>\n",
       "      <td>118840.000000</td>\n",
       "      <td>110581.000000</td>\n",
       "    </tr>\n",
       "    <tr>\n",
       "      <th>mean</th>\n",
       "      <td>63044.561192</td>\n",
       "      <td>88.443748</td>\n",
       "      <td>35.587162</td>\n",
       "    </tr>\n",
       "    <tr>\n",
       "      <th>std</th>\n",
       "      <td>37521.108588</td>\n",
       "      <td>3.094261</td>\n",
       "      <td>41.895316</td>\n",
       "    </tr>\n",
       "    <tr>\n",
       "      <th>min</th>\n",
       "      <td>0.000000</td>\n",
       "      <td>80.000000</td>\n",
       "      <td>4.000000</td>\n",
       "    </tr>\n",
       "    <tr>\n",
       "      <th>25%</th>\n",
       "      <td>30283.750000</td>\n",
       "      <td>86.000000</td>\n",
       "      <td>17.000000</td>\n",
       "    </tr>\n",
       "    <tr>\n",
       "      <th>50%</th>\n",
       "      <td>62145.500000</td>\n",
       "      <td>88.000000</td>\n",
       "      <td>25.000000</td>\n",
       "    </tr>\n",
       "    <tr>\n",
       "      <th>75%</th>\n",
       "      <td>95235.250000</td>\n",
       "      <td>91.000000</td>\n",
       "      <td>42.000000</td>\n",
       "    </tr>\n",
       "    <tr>\n",
       "      <th>max</th>\n",
       "      <td>129970.000000</td>\n",
       "      <td>100.000000</td>\n",
       "      <td>3300.000000</td>\n",
       "    </tr>\n",
       "  </tbody>\n",
       "</table>\n",
       "</div>"
      ],
      "text/plain": [
       "          Unnamed: 0         points          price\n",
       "count  118840.000000  118840.000000  110581.000000\n",
       "mean    63044.561192      88.443748      35.587162\n",
       "std     37521.108588       3.094261      41.895316\n",
       "min         0.000000      80.000000       4.000000\n",
       "25%     30283.750000      86.000000      17.000000\n",
       "50%     62145.500000      88.000000      25.000000\n",
       "75%     95235.250000      91.000000      42.000000\n",
       "max    129970.000000     100.000000    3300.000000"
      ]
     },
     "execution_count": 482,
     "metadata": {},
     "output_type": "execute_result"
    }
   ],
   "source": [
    "df.describe()"
   ]
  },
  {
   "cell_type": "markdown",
   "metadata": {},
   "source": [
    "As one can see from the description table, the point (target variable) are on average  88, on a scale from 0 to 100. It has to be noted that this dataset only contains wine reviews that are above 80 points."
   ]
  },
  {
   "cell_type": "code",
   "execution_count": 483,
   "metadata": {},
   "outputs": [
    {
     "data": {
      "text/plain": [
       "<matplotlib.axes._subplots.AxesSubplot at 0x26b19a1f0b8>"
      ]
     },
     "execution_count": 483,
     "metadata": {},
     "output_type": "execute_result"
    },
    {
     "data": {
      "image/png": "[encoded data removed]",
      "text/plain": [
       "<Figure size 432x288 with 1 Axes>"
      ]
     },
     "metadata": {},
     "output_type": "display_data"
    }
   ],
   "source": [
    "sns.distplot(df['points'])"
   ]
  },
  {
   "cell_type": "markdown",
   "metadata": {},
   "source": [
    "The distribution of the points is normally distributed, therefore we can leave it as it is."
   ]
  },
  {
   "cell_type": "markdown",
   "metadata": {},
   "source": [
    "Since the column 'Unnamed: 0 ' is only an index counter, it does not add any value. Therefore the column is dropped. "
   ]
  },
  {
   "cell_type": "code",
   "execution_count": 484,
   "metadata": {},
   "outputs": [],
   "source": [
    "# Drop 'Unnamed: 0'\n",
    "df.drop('Unnamed: 0', axis=1, inplace=True)"
   ]
  },
  {
   "cell_type": "markdown",
   "metadata": {},
   "source": [
    "### Missing Values "
   ]
  },
  {
   "cell_type": "code",
   "execution_count": 485,
   "metadata": {},
   "outputs": [
    {
     "data": {
      "text/plain": [
       "<matplotlib.axes._subplots.AxesSubplot at 0x26af4dc2eb8>"
      ]
     },
     "execution_count": 485,
     "metadata": {},
     "output_type": "execute_result"
    },
    {
     "data": {
      "image/png": "[encoded data removed]",
      "text/plain": [
       "<Figure size 1440x720 with 1 Axes>"
      ]
     },
     "metadata": {},
     "output_type": "display_data"
    }
   ],
   "source": [
    "# Check for missing values\n",
    "plt.figure(figsize=(20,10))\n",
    "sns.heatmap(df.isnull(),yticklabels=False,cbar=False,cmap='viridis')"
   ]
  },
  {
   "cell_type": "code",
   "execution_count": 486,
   "metadata": {},
   "outputs": [
    {
     "data": {
      "text/plain": [
       "country                     59\n",
       "designation              34289\n",
       "price                     8259\n",
       "province                    59\n",
       "region_1                 19494\n",
       "region_2                 72272\n",
       "taster_name              24733\n",
       "taster_twitter_handle    29253\n",
       "variety                      1\n",
       "dtype: int64"
      ]
     },
     "execution_count": 486,
     "metadata": {},
     "output_type": "execute_result"
    }
   ],
   "source": [
    "# Count missing values\n",
    "null_columns=df.columns[df.isnull().any()]\n",
    "df[null_columns].isnull().sum()"
   ]
  },
  {
   "cell_type": "code",
   "execution_count": 487,
   "metadata": {},
   "outputs": [
    {
     "data": {
      "text/plain": [
       "country                   0.049647\n",
       "designation              28.853080\n",
       "price                     6.949680\n",
       "province                  0.049647\n",
       "region_1                 16.403568\n",
       "region_2                 60.814541\n",
       "taster_name              20.812016\n",
       "taster_twitter_handle    24.615449\n",
       "variety                   0.000841\n",
       "dtype: float64"
      ]
     },
     "execution_count": 487,
     "metadata": {},
     "output_type": "execute_result"
    }
   ],
   "source": [
    "# Percentage of missing values\n",
    "(df[null_columns].isnull().sum() / 118840)*100"
   ]
  },
  {
   "cell_type": "markdown",
   "metadata": {},
   "source": [
    "As one can see, there are a lot of missing values for designation, region_2, taster_name and taster_twitter_handle."
   ]
  },
  {
   "cell_type": "markdown",
   "metadata": {},
   "source": [
    "Region_2 is a more specific regions specified within a wine growing area. Hence it is a specialization of region_1. Since 60% is region_2 is not filled in, we will drop this column in our first iteration."
   ]
  },
  {
   "cell_type": "code",
   "execution_count": 488,
   "metadata": {},
   "outputs": [],
   "source": [
    "# Drop columns with a lot of missing values: region_2\n",
    "df.drop('region_2', axis=1, inplace=True)"
   ]
  },
  {
   "cell_type": "markdown",
   "metadata": {},
   "source": [
    "Since taster_twitter_handle is only the Twitter name of the taster, it does not add any extra value to the taster's name. Therefore we will drop this column as well. "
   ]
  },
  {
   "cell_type": "code",
   "execution_count": 489,
   "metadata": {},
   "outputs": [],
   "source": [
    "# Drop columns with irrelevant information: 'taster_twitter_handle'\n",
    "df.drop('taster_twitter_handle', axis=1, inplace=True)"
   ]
  },
  {
   "cell_type": "markdown",
   "metadata": {},
   "source": [
    "----------------------------------------------------------"
   ]
  },
  {
   "cell_type": "markdown",
   "metadata": {},
   "source": [
    "Since there are a lot of unique values for 'designation', we will create a top10 and classify everything outside that top10 as the value 'Other'."
   ]
  },
  {
   "cell_type": "code",
   "execution_count": 490,
   "metadata": {},
   "outputs": [
    {
     "data": {
      "text/plain": [
       "Reserve                                                        1869\n",
       "Estate                                                         1218\n",
       "Reserva                                                        1175\n",
       "Riserva                                                         645\n",
       "Estate Grown                                                    565\n",
       "Brut                                                            385\n",
       "Dry                                                             376\n",
       "Barrel sample                                                   348\n",
       "Estate Bottled                                                  318\n",
       "Crianza                                                         311\n",
       "Vieilles Vignes                                                 280\n",
       "Barrel Sample                                                   247\n",
       "Gran Reserva                                                    246\n",
       "Tradition                                                       208\n",
       "Old Vine                                                        203\n",
       "Brut Rosé                                                       193\n",
       "Rosé of                                                         160\n",
       "Extra Dry                                                       151\n",
       "Rosé                                                            144\n",
       "Réserve                                                         140\n",
       "Single Vineyard                                                 123\n",
       "Vintage                                                         122\n",
       "Estate Reserve                                                  120\n",
       "Bien Nacido Vineyard                                            114\n",
       "Late Harvest                                                    103\n",
       "Unoaked                                                         101\n",
       "Barrel Select                                                    97\n",
       "Classic                                                          97\n",
       "Late Bottled Vintage                                             91\n",
       "Estate Vineyard                                                  86\n",
       "                                                               ... \n",
       "Villa Romizi                                                      1\n",
       "Les Chailloux Vieilles Vignes                                     1\n",
       "Daou Unbound                                                      1\n",
       "Y Series Unwooded                                                 1\n",
       "The Old Man's Blend                                               1\n",
       "Forgotten Hills                                                   1\n",
       "Vintner's Blend #9 Red Table Wine                                 1\n",
       "Le Roc                                                            1\n",
       "Croix de Beaucaillou                                              1\n",
       "Les Echansons                                                     1\n",
       "Vigna Machia dei Goti                                             1\n",
       "Nube Bianco                                                       1\n",
       "Peacock                                                           1\n",
       "HD Clásico                                                        1\n",
       "Vila Santa Reserva Branco                                         1\n",
       "L'insieme                                                         1\n",
       "Villa Canlungo Black Label                                        1\n",
       "Cano Pazzo                                                        1\n",
       "Steinmassel Trockenbeerenauslese                                  1\n",
       "Byron Vineyard Delta                                              1\n",
       "L'Irresistible                                                    1\n",
       "Montonia                                                          1\n",
       "Foxtrot Vineyard                                                  1\n",
       "La Réserve de l'Obédience Les Blanchots Grand Cru                 1\n",
       "Coast Range                                                       1\n",
       "Timber Crest Vineyard Estate Grown                                1\n",
       "Darby & Joan                                                      1\n",
       "Tagus Creek Chardonnay-Fernão Pires                               1\n",
       "Pinot Noir Blanc                                                  1\n",
       "Gran Reserva Finca Real Sitio de Ventosilla Single Vineyard       1\n",
       "Name: designation, Length: 37979, dtype: int64"
      ]
     },
     "execution_count": 490,
     "metadata": {},
     "output_type": "execute_result"
    }
   ],
   "source": [
    "# Check unique values for designation\n",
    "df.designation.value_counts()"
   ]
  },
  {
   "cell_type": "code",
   "execution_count": 491,
   "metadata": {
    "scrolled": true
   },
   "outputs": [
    {
     "data": {
      "text/plain": [
       "Reserve           1869\n",
       "Estate            1218\n",
       "Reserva           1175\n",
       "Riserva            645\n",
       "Estate Grown       565\n",
       "Brut               385\n",
       "Dry                376\n",
       "Barrel sample      348\n",
       "Estate Bottled     318\n",
       "Crianza            311\n",
       "Name: designation, dtype: int64"
      ]
     },
     "execution_count": 491,
     "metadata": {},
     "output_type": "execute_result"
    }
   ],
   "source": [
    "# Top 10 most common Designations\n",
    "df.designation.value_counts()[:10]"
   ]
  },
  {
   "cell_type": "code",
   "execution_count": 492,
   "metadata": {},
   "outputs": [],
   "source": [
    "values_designation = df['designation'].value_counts()[:10].keys().tolist()\n",
    "counts_designation = df['designation'].value_counts()[:10].tolist()"
   ]
  },
  {
   "cell_type": "markdown",
   "metadata": {},
   "source": [
    "We will replace all values other than the top 10 with 'Other'."
   ]
  },
  {
   "cell_type": "code",
   "execution_count": 493,
   "metadata": {},
   "outputs": [],
   "source": [
    "# Function that returns the value 'Other' for every funder other than in the top_ten list\n",
    "def designation_other(x):\n",
    "    if x.designation in values_designation:\n",
    "        return x.designation\n",
    "    else:\n",
    "        return 'Other'"
   ]
  },
  {
   "cell_type": "code",
   "execution_count": 494,
   "metadata": {},
   "outputs": [],
   "source": [
    "# apply function to replace values with 'Other'\n",
    "df.designation = df.apply(designation_other, axis=1)"
   ]
  },
  {
   "cell_type": "markdown",
   "metadata": {},
   "source": [
    "-----------------------------------------------------------------------------"
   ]
  },
  {
   "cell_type": "markdown",
   "metadata": {},
   "source": [
    "Now we are going to fill the missing values of 'price' with the median."
   ]
  },
  {
   "cell_type": "code",
   "execution_count": 495,
   "metadata": {},
   "outputs": [],
   "source": [
    "from sklearn.preprocessing import Imputer\n",
    "imr = Imputer(missing_values='NaN',strategy='median',axis=0)\n",
    "imr.fit(df['price'].values.reshape(-1, 1))\n",
    "imputed_data = imr.transform(df['price'].values.reshape(-1, 1))\n",
    "df['price'] = imputed_data"
   ]
  },
  {
   "cell_type": "markdown",
   "metadata": {},
   "source": [
    "--------------------------"
   ]
  },
  {
   "cell_type": "markdown",
   "metadata": {},
   "source": [
    "We will now create a top10 for 'region_1' and classify all values not in top10 as 'Other'."
   ]
  },
  {
   "cell_type": "code",
   "execution_count": 496,
   "metadata": {},
   "outputs": [
    {
     "data": {
      "text/plain": [
       "Napa Valley                              4160\n",
       "Columbia Valley (WA)                     3780\n",
       "Russian River Valley                     2854\n",
       "California                               2413\n",
       "Mendoza                                  2151\n",
       "Paso Robles                              2138\n",
       "Willamette Valley                        2110\n",
       "Alsace                                   1960\n",
       "Barolo                                   1492\n",
       "Finger Lakes                             1445\n",
       "Sonoma Coast                             1374\n",
       "Rioja                                    1343\n",
       "Brunello di Montalcino                   1335\n",
       "Champagne                                1239\n",
       "Sonoma County                            1147\n",
       "Toscana                                  1115\n",
       "Walla Walla Valley (WA)                   995\n",
       "Chianti Classico                          964\n",
       "Carneros                                  922\n",
       "Yakima Valley                             917\n",
       "Santa Barbara County                      914\n",
       "Sta. Rita Hills                           902\n",
       "Dry Creek Valley                          870\n",
       "Sicilia                                   842\n",
       "Côtes de Provence                         766\n",
       "Lodi                                      754\n",
       "Santa Ynez Valley                         738\n",
       "Santa Lucia Highlands                     736\n",
       "Barbaresco                                733\n",
       "Alexander Valley                          731\n",
       "                                         ... \n",
       "Sonoma-Mendocino                            1\n",
       "Aleatico dell'Elba                          1\n",
       "Côtes du Frontonnais                        1\n",
       "Finca Élez                                  1\n",
       "Sardon de Duero                             1\n",
       "Jujuy                                       1\n",
       "Muscat de Saint-Jean de Minervois           1\n",
       "Vin Pétillant                               1\n",
       "Corton Perrières                            1\n",
       "Altos de Mendoza                            1\n",
       "Maury Sec                                   1\n",
       "Saussignac                                  1\n",
       "Toledo                                      1\n",
       "Moulis                                      1\n",
       "Burgundy                                    1\n",
       "Bullas                                      1\n",
       "Côtes du Roussillon Villages Caramany       1\n",
       "Napa-Sonoma-Marin                           1\n",
       "Sovana                                      1\n",
       "Aglianico d'Irpinia                         1\n",
       "Vallée du Paradis                           1\n",
       "Southern Highlands                          1\n",
       "Assisi                                      1\n",
       "Circeo                                      1\n",
       "Mendocino-Amador                            1\n",
       "Mount Barker & Margaret River               1\n",
       "Trentino Superiore                          1\n",
       "Lake-Sonoma-Napa                            1\n",
       "Squinzano                                   1\n",
       "Napa-Monterey-Mendocino                     1\n",
       "Name: region_1, Length: 1229, dtype: int64"
      ]
     },
     "execution_count": 496,
     "metadata": {},
     "output_type": "execute_result"
    }
   ],
   "source": [
    "# Check unique values for region_1\n",
    "df.region_1.value_counts()"
   ]
  },
  {
   "cell_type": "code",
   "execution_count": 498,
   "metadata": {},
   "outputs": [],
   "source": [
    "values_region1 = df['region_1'].value_counts()[:10].keys().tolist()\n",
    "counts_region1 = df['region_1'].value_counts()[:10].tolist()"
   ]
  },
  {
   "cell_type": "code",
   "execution_count": 499,
   "metadata": {},
   "outputs": [],
   "source": [
    "def region1_other(x):\n",
    "    if x.region_1 in values_region1:\n",
    "        return x.region_1\n",
    "    else:\n",
    "        return 'Other'"
   ]
  },
  {
   "cell_type": "code",
   "execution_count": 500,
   "metadata": {},
   "outputs": [],
   "source": [
    "# apply function to replace values with 'Other'\n",
    "df.region_1 = df.apply(region1_other, axis=1)"
   ]
  },
  {
   "cell_type": "markdown",
   "metadata": {},
   "source": [
    "-------------------------------------------------------------"
   ]
  },
  {
   "cell_type": "code",
   "execution_count": 501,
   "metadata": {},
   "outputs": [
    {
     "data": {
      "text/plain": [
       "country           59\n",
       "province          59\n",
       "taster_name    24733\n",
       "variety            1\n",
       "dtype: int64"
      ]
     },
     "execution_count": 501,
     "metadata": {},
     "output_type": "execute_result"
    }
   ],
   "source": [
    "# Count missing values\n",
    "null_columns=df.columns[df.isnull().any()]\n",
    "df[null_columns].isnull().sum()"
   ]
  },
  {
   "cell_type": "markdown",
   "metadata": {},
   "source": [
    "As we can see, there are still 59 rows with missing value of country. This amount can be neglected. Therefore we will simply drop these rows. We do this by overwriting the dataframe where country is not null."
   ]
  },
  {
   "cell_type": "code",
   "execution_count": 502,
   "metadata": {},
   "outputs": [],
   "source": [
    "df=df.loc[df.country.notnull()]"
   ]
  },
  {
   "cell_type": "code",
   "execution_count": 503,
   "metadata": {},
   "outputs": [
    {
     "data": {
      "text/plain": [
       "taster_name    24733\n",
       "variety            1\n",
       "dtype: int64"
      ]
     },
     "execution_count": 503,
     "metadata": {},
     "output_type": "execute_result"
    }
   ],
   "source": [
    "# Count missing values\n",
    "null_columns=df.columns[df.isnull().any()]\n",
    "df[null_columns].isnull().sum()"
   ]
  },
  {
   "cell_type": "markdown",
   "metadata": {},
   "source": [
    "--------------------------------------------------------------------------"
   ]
  },
  {
   "cell_type": "markdown",
   "metadata": {},
   "source": [
    "All missing values of 'taster_name' will be replaced with 'Unknown'."
   ]
  },
  {
   "cell_type": "code",
   "execution_count": 504,
   "metadata": {},
   "outputs": [],
   "source": [
    "df.taster_name.fillna(value='Unknown',inplace=True)"
   ]
  },
  {
   "cell_type": "markdown",
   "metadata": {},
   "source": [
    "We will now create a top10 of variety and assign every value outside this top10 as 'Other'."
   ]
  },
  {
   "cell_type": "code",
   "execution_count": 505,
   "metadata": {},
   "outputs": [
    {
     "data": {
      "text/plain": [
       "Pinot Noir                    12191\n",
       "Chardonnay                    10778\n",
       "Cabernet Sauvignon             8822\n",
       "Red Blend                      8210\n",
       "Bordeaux-style Red Blend       6380\n",
       "Riesling                       4758\n",
       "Sauvignon Blanc                4542\n",
       "Syrah                          3822\n",
       "Rosé                           3214\n",
       "Merlot                         2887\n",
       "Nebbiolo                       2599\n",
       "Zinfandel                      2524\n",
       "Sangiovese                     2458\n",
       "Malbec                         2446\n",
       "Portuguese Red                 2269\n",
       "White Blend                    2163\n",
       "Sparkling Blend                1706\n",
       "Tempranillo                    1666\n",
       "Rhône-style Red Blend          1340\n",
       "Pinot Gris                     1317\n",
       "Cabernet Franc                 1241\n",
       "Grüner Veltliner               1197\n",
       "Champagne Blend                1092\n",
       "Portuguese White               1055\n",
       "Pinot Grigio                    978\n",
       "Gewürztraminer                  936\n",
       "Bordeaux-style White Blend      928\n",
       "Gamay                           921\n",
       "Viognier                        919\n",
       "Shiraz                          785\n",
       "                              ...  \n",
       "Caprettone                        1\n",
       "Barbera-Nebbiolo                  1\n",
       "Catalanesca                       1\n",
       "Syrah-Grenache-Viognier           1\n",
       "Picapoll                          1\n",
       "Moschofilero-Chardonnay           1\n",
       "Roussanne-Grenache Blanc          1\n",
       "Petit Courbu                      1\n",
       "Cabernet-Malbec                   1\n",
       "Merlot-Shiraz                     1\n",
       "Favorita                          1\n",
       "Babosa Negro                      1\n",
       "Cercial                           1\n",
       "Misket                            1\n",
       "Pinot Blanc-Viognier              1\n",
       "Colorino                          1\n",
       "Karalahna                         1\n",
       "Piquepoul Blanc                   1\n",
       "Graševina                         1\n",
       "Petit Meslier                     1\n",
       "Blauburgunder                     1\n",
       "Aidani                            1\n",
       "Tokay Pinot Gris                  1\n",
       "Jampal                            1\n",
       "Groppello                         1\n",
       "Blauburger                        1\n",
       "Sideritis                         1\n",
       "Pigato                            1\n",
       "Morava                            1\n",
       "Portuguiser                       1\n",
       "Name: variety, Length: 701, dtype: int64"
      ]
     },
     "execution_count": 505,
     "metadata": {},
     "output_type": "execute_result"
    }
   ],
   "source": [
    "# Check unique values for variety\n",
    "df.variety.value_counts()"
   ]
  },
  {
   "cell_type": "code",
   "execution_count": 506,
   "metadata": {},
   "outputs": [],
   "source": [
    "values_variety = df['variety'].value_counts()[:10].keys().tolist()\n",
    "counts_variety = df['variety'].value_counts()[:10].tolist()"
   ]
  },
  {
   "cell_type": "code",
   "execution_count": 507,
   "metadata": {},
   "outputs": [],
   "source": [
    "def variety_other(x):\n",
    "    if x.variety in values_variety:\n",
    "        return x.variety\n",
    "    else:\n",
    "        return 'Other'"
   ]
  },
  {
   "cell_type": "code",
   "execution_count": 508,
   "metadata": {},
   "outputs": [],
   "source": [
    "# apply function to replace values with 'Other'\n",
    "df.variety = df.apply(variety_other, axis=1)"
   ]
  },
  {
   "cell_type": "markdown",
   "metadata": {},
   "source": [
    "At last, we will create a top20 for the 'province' and classify all values."
   ]
  },
  {
   "cell_type": "code",
   "execution_count": 509,
   "metadata": {},
   "outputs": [
    {
     "data": {
      "text/plain": [
       "California                   33470\n",
       "Washington                    7944\n",
       "Bordeaux                      5400\n",
       "Tuscany                       5384\n",
       "Oregon                        4921\n",
       "Burgundy                      3599\n",
       "Northern Spain                3547\n",
       "Piedmont                      3427\n",
       "Mendoza Province              3037\n",
       "New York                      2453\n",
       "Veneto                        2423\n",
       "Alsace                        2166\n",
       "Northeastern Italy            1956\n",
       "Loire Valley                  1650\n",
       "Sicily & Sardinia             1631\n",
       "Southwest France              1379\n",
       "South Australia               1268\n",
       "Southern Italy                1254\n",
       "Champagne                     1239\n",
       "Provence                      1194\n",
       "Douro                         1175\n",
       "Central Italy                 1132\n",
       "Rhône Valley                   985\n",
       "Catalonia                      978\n",
       "Mosel                          944\n",
       "Beaujolais                     939\n",
       "Alentejano                     858\n",
       "Colchagua Valley               779\n",
       "Virginia                       721\n",
       "Marlborough                    717\n",
       "                             ...  \n",
       "Muscat of Patras                 1\n",
       "Viile Timis                      1\n",
       "Neuchâtel                        1\n",
       "Mavrodaphne de Cephalonie        1\n",
       "Muzla                            1\n",
       "Messinia                         1\n",
       "Ceres Plateau                    1\n",
       "Corinthia                        1\n",
       "Urla-Thrace                      1\n",
       "Lesbos                           1\n",
       "Lutzville Valley                 1\n",
       "Pitsilia Mountains               1\n",
       "Pocerina                         1\n",
       "Central Greece                   1\n",
       "Ticino                           1\n",
       "Arcadia                          1\n",
       "Gladstone                        1\n",
       "Casablanca-Curicó Valley         1\n",
       "Kathikas                         1\n",
       "Coelemu                          1\n",
       "Lemesos                          1\n",
       "Dolenjska                        1\n",
       "Egypt                            1\n",
       "Rhode Island                     1\n",
       "Alenteo                          1\n",
       "Table wine                       1\n",
       "Krk                              1\n",
       "Monemvasia                       1\n",
       "Imathia                          1\n",
       "Kentucky                         1\n",
       "Name: province, Length: 425, dtype: int64"
      ]
     },
     "execution_count": 509,
     "metadata": {},
     "output_type": "execute_result"
    }
   ],
   "source": [
    "# Check unique values for province\n",
    "df.province.value_counts()"
   ]
  },
  {
   "cell_type": "code",
   "execution_count": 510,
   "metadata": {},
   "outputs": [],
   "source": [
    "values_province = df['province'].value_counts()[:20].keys().tolist()\n",
    "counts_province = df['province'].value_counts()[:20].tolist()"
   ]
  },
  {
   "cell_type": "code",
   "execution_count": 511,
   "metadata": {},
   "outputs": [],
   "source": [
    "def province_other(x):\n",
    "    if x.province in values_province:\n",
    "        return x.province\n",
    "    else:\n",
    "        return 'Other'"
   ]
  },
  {
   "cell_type": "code",
   "execution_count": 512,
   "metadata": {},
   "outputs": [],
   "source": [
    "# apply function to replace values with 'Other'\n",
    "df.province = df.apply(province_other, axis=1)"
   ]
  },
  {
   "cell_type": "markdown",
   "metadata": {},
   "source": [
    "End of handling missing values."
   ]
  },
  {
   "cell_type": "markdown",
   "metadata": {},
   "source": [
    "### Dropping categorical columns with too many unique values"
   ]
  },
  {
   "cell_type": "code",
   "execution_count": 513,
   "metadata": {},
   "outputs": [
    {
     "data": {
      "text/html": [
       "<div>\n",
       "<style scoped>\n",
       "    .dataframe tbody tr th:only-of-type {\n",
       "        vertical-align: middle;\n",
       "    }\n",
       "\n",
       "    .dataframe tbody tr th {\n",
       "        vertical-align: top;\n",
       "    }\n",
       "\n",
       "    .dataframe thead th {\n",
       "        text-align: right;\n",
       "    }\n",
       "</style>\n",
       "<table border=\"1\" class=\"dataframe\">\n",
       "  <thead>\n",
       "    <tr style=\"text-align: right;\">\n",
       "      <th></th>\n",
       "      <th>country</th>\n",
       "      <th>description</th>\n",
       "      <th>designation</th>\n",
       "      <th>points</th>\n",
       "      <th>price</th>\n",
       "      <th>province</th>\n",
       "      <th>region_1</th>\n",
       "      <th>taster_name</th>\n",
       "      <th>title</th>\n",
       "      <th>variety</th>\n",
       "      <th>winery</th>\n",
       "    </tr>\n",
       "  </thead>\n",
       "  <tbody>\n",
       "    <tr>\n",
       "      <th>0</th>\n",
       "      <td>Italy</td>\n",
       "      <td>Aromas include tropical fruit, broom, brimston...</td>\n",
       "      <td>Other</td>\n",
       "      <td>87</td>\n",
       "      <td>25.0</td>\n",
       "      <td>Sicily &amp; Sardinia</td>\n",
       "      <td>Other</td>\n",
       "      <td>Kerin O’Keefe</td>\n",
       "      <td>Nicosia 2013 Vulkà Bianco  (Etna)</td>\n",
       "      <td>Other</td>\n",
       "      <td>Nicosia</td>\n",
       "    </tr>\n",
       "    <tr>\n",
       "      <th>1</th>\n",
       "      <td>Portugal</td>\n",
       "      <td>This is ripe and fruity, a wine that is smooth...</td>\n",
       "      <td>Other</td>\n",
       "      <td>87</td>\n",
       "      <td>15.0</td>\n",
       "      <td>Other</td>\n",
       "      <td>Other</td>\n",
       "      <td>Roger Voss</td>\n",
       "      <td>Quinta dos Avidagos 2011 Avidagos Red (Douro)</td>\n",
       "      <td>Other</td>\n",
       "      <td>Quinta dos Avidagos</td>\n",
       "    </tr>\n",
       "    <tr>\n",
       "      <th>2</th>\n",
       "      <td>US</td>\n",
       "      <td>Tart and snappy, the flavors of lime flesh and...</td>\n",
       "      <td>Other</td>\n",
       "      <td>87</td>\n",
       "      <td>14.0</td>\n",
       "      <td>Oregon</td>\n",
       "      <td>Willamette Valley</td>\n",
       "      <td>Paul Gregutt</td>\n",
       "      <td>Rainstorm 2013 Pinot Gris (Willamette Valley)</td>\n",
       "      <td>Other</td>\n",
       "      <td>Rainstorm</td>\n",
       "    </tr>\n",
       "    <tr>\n",
       "      <th>3</th>\n",
       "      <td>US</td>\n",
       "      <td>Pineapple rind, lemon pith and orange blossom ...</td>\n",
       "      <td>Other</td>\n",
       "      <td>87</td>\n",
       "      <td>13.0</td>\n",
       "      <td>Other</td>\n",
       "      <td>Other</td>\n",
       "      <td>Alexander Peartree</td>\n",
       "      <td>St. Julian 2013 Reserve Late Harvest Riesling ...</td>\n",
       "      <td>Riesling</td>\n",
       "      <td>St. Julian</td>\n",
       "    </tr>\n",
       "    <tr>\n",
       "      <th>4</th>\n",
       "      <td>US</td>\n",
       "      <td>Much like the regular bottling from 2012, this...</td>\n",
       "      <td>Other</td>\n",
       "      <td>87</td>\n",
       "      <td>65.0</td>\n",
       "      <td>Oregon</td>\n",
       "      <td>Willamette Valley</td>\n",
       "      <td>Paul Gregutt</td>\n",
       "      <td>Sweet Cheeks 2012 Vintner's Reserve Wild Child...</td>\n",
       "      <td>Pinot Noir</td>\n",
       "      <td>Sweet Cheeks</td>\n",
       "    </tr>\n",
       "  </tbody>\n",
       "</table>\n",
       "</div>"
      ],
      "text/plain": [
       "    country                                        description designation  points  price           province           region_1         taster_name                                              title     variety               winery\n",
       "0     Italy  Aromas include tropical fruit, broom, brimston...       Other      87   25.0  Sicily & Sardinia              Other       Kerin O’Keefe                  Nicosia 2013 Vulkà Bianco  (Etna)       Other              Nicosia\n",
       "1  Portugal  This is ripe and fruity, a wine that is smooth...       Other      87   15.0              Other              Other          Roger Voss      Quinta dos Avidagos 2011 Avidagos Red (Douro)       Other  Quinta dos Avidagos\n",
       "2        US  Tart and snappy, the flavors of lime flesh and...       Other      87   14.0             Oregon  Willamette Valley        Paul Gregutt      Rainstorm 2013 Pinot Gris (Willamette Valley)       Other            Rainstorm\n",
       "3        US  Pineapple rind, lemon pith and orange blossom ...       Other      87   13.0              Other              Other  Alexander Peartree  St. Julian 2013 Reserve Late Harvest Riesling ...    Riesling           St. Julian\n",
       "4        US  Much like the regular bottling from 2012, this...       Other      87   65.0             Oregon  Willamette Valley        Paul Gregutt  Sweet Cheeks 2012 Vintner's Reserve Wild Child...  Pinot Noir         Sweet Cheeks"
      ]
     },
     "execution_count": 513,
     "metadata": {},
     "output_type": "execute_result"
    }
   ],
   "source": [
    "df.head()"
   ]
  },
  {
   "cell_type": "code",
   "execution_count": 521,
   "metadata": {},
   "outputs": [
    {
     "name": "stdout",
     "output_type": "stream",
     "text": [
      "Country unique values: 43\n",
      "Designation unique values: 11\n",
      "Province unique values: 21\n",
      "Region1 unique values: 11\n",
      "Taster unique values: 20\n",
      "Variety unique values: 11\n"
     ]
    },
    {
     "ename": "AttributeError",
     "evalue": "'DataFrame' object has no attribute 'winery'",
     "output_type": "error",
     "traceback": [
      "\u001b[1;31m---------------------------------------------------------------------------\u001b[0m",
      "\u001b[1;31mAttributeError\u001b[0m                            Traceback (most recent call last)",
      "\u001b[1;32m<ipython-input-521-abbbbf61436d>\u001b[0m in \u001b[0;36m<module>\u001b[1;34m()\u001b[0m\n\u001b[0;32m      5\u001b[0m \u001b[0mprint\u001b[0m\u001b[1;33m(\u001b[0m\u001b[1;34m'Taster unique values: '\u001b[0m \u001b[1;33m+\u001b[0m \u001b[0mstr\u001b[0m\u001b[1;33m(\u001b[0m\u001b[0mdf\u001b[0m\u001b[1;33m.\u001b[0m\u001b[0mtaster_name\u001b[0m\u001b[1;33m.\u001b[0m\u001b[0mnunique\u001b[0m\u001b[1;33m(\u001b[0m\u001b[1;33m)\u001b[0m\u001b[1;33m)\u001b[0m\u001b[1;33m)\u001b[0m\u001b[1;33m\u001b[0m\u001b[0m\n\u001b[0;32m      6\u001b[0m \u001b[0mprint\u001b[0m\u001b[1;33m(\u001b[0m\u001b[1;34m'Variety unique values: '\u001b[0m \u001b[1;33m+\u001b[0m \u001b[0mstr\u001b[0m\u001b[1;33m(\u001b[0m\u001b[0mdf\u001b[0m\u001b[1;33m.\u001b[0m\u001b[0mvariety\u001b[0m\u001b[1;33m.\u001b[0m\u001b[0mnunique\u001b[0m\u001b[1;33m(\u001b[0m\u001b[1;33m)\u001b[0m\u001b[1;33m)\u001b[0m\u001b[1;33m)\u001b[0m\u001b[1;33m\u001b[0m\u001b[0m\n\u001b[1;32m----> 7\u001b[1;33m \u001b[0mprint\u001b[0m\u001b[1;33m(\u001b[0m\u001b[1;34m'Winery unique values: '\u001b[0m \u001b[1;33m+\u001b[0m \u001b[0mstr\u001b[0m\u001b[1;33m(\u001b[0m\u001b[0mdf\u001b[0m\u001b[1;33m.\u001b[0m\u001b[0mwinery\u001b[0m\u001b[1;33m.\u001b[0m\u001b[0mnunique\u001b[0m\u001b[1;33m(\u001b[0m\u001b[1;33m)\u001b[0m\u001b[1;33m)\u001b[0m\u001b[1;33m)\u001b[0m\u001b[1;33m\u001b[0m\u001b[0m\n\u001b[0m\u001b[0;32m      8\u001b[0m \u001b[0mprint\u001b[0m\u001b[1;33m(\u001b[0m\u001b[1;34m'Year review unique values: '\u001b[0m \u001b[1;33m+\u001b[0m \u001b[0mstr\u001b[0m\u001b[1;33m(\u001b[0m\u001b[0mdf\u001b[0m\u001b[1;33m.\u001b[0m\u001b[0myear_review\u001b[0m\u001b[1;33m.\u001b[0m\u001b[0mnunique\u001b[0m\u001b[1;33m(\u001b[0m\u001b[1;33m)\u001b[0m\u001b[1;33m)\u001b[0m\u001b[1;33m)\u001b[0m\u001b[1;33m\u001b[0m\u001b[0m\n",
      "\u001b[1;32m~\\Anaconda3\\lib\\site-packages\\pandas\\core\\generic.py\u001b[0m in \u001b[0;36m__getattr__\u001b[1;34m(self, name)\u001b[0m\n\u001b[0;32m   4370\u001b[0m             \u001b[1;32mif\u001b[0m \u001b[0mself\u001b[0m\u001b[1;33m.\u001b[0m\u001b[0m_info_axis\u001b[0m\u001b[1;33m.\u001b[0m\u001b[0m_can_hold_identifiers_and_holds_name\u001b[0m\u001b[1;33m(\u001b[0m\u001b[0mname\u001b[0m\u001b[1;33m)\u001b[0m\u001b[1;33m:\u001b[0m\u001b[1;33m\u001b[0m\u001b[0m\n\u001b[0;32m   4371\u001b[0m                 \u001b[1;32mreturn\u001b[0m \u001b[0mself\u001b[0m\u001b[1;33m[\u001b[0m\u001b[0mname\u001b[0m\u001b[1;33m]\u001b[0m\u001b[1;33m\u001b[0m\u001b[0m\n\u001b[1;32m-> 4372\u001b[1;33m             \u001b[1;32mreturn\u001b[0m \u001b[0mobject\u001b[0m\u001b[1;33m.\u001b[0m\u001b[0m__getattribute__\u001b[0m\u001b[1;33m(\u001b[0m\u001b[0mself\u001b[0m\u001b[1;33m,\u001b[0m \u001b[0mname\u001b[0m\u001b[1;33m)\u001b[0m\u001b[1;33m\u001b[0m\u001b[0m\n\u001b[0m\u001b[0;32m   4373\u001b[0m \u001b[1;33m\u001b[0m\u001b[0m\n\u001b[0;32m   4374\u001b[0m     \u001b[1;32mdef\u001b[0m \u001b[0m__setattr__\u001b[0m\u001b[1;33m(\u001b[0m\u001b[0mself\u001b[0m\u001b[1;33m,\u001b[0m \u001b[0mname\u001b[0m\u001b[1;33m,\u001b[0m \u001b[0mvalue\u001b[0m\u001b[1;33m)\u001b[0m\u001b[1;33m:\u001b[0m\u001b[1;33m\u001b[0m\u001b[0m\n",
      "\u001b[1;31mAttributeError\u001b[0m: 'DataFrame' object has no attribute 'winery'"
     ]
    }
   ],
   "source": [
    "print('Country unique values: ' + str(df.country.nunique()))\n",
    "print('Designation unique values: ' + str(df.designation.nunique()))\n",
    "print('Province unique values: ' + str(df.province.nunique()))\n",
    "print('Region1 unique values: ' + str(df.region_1.nunique()))\n",
    "print('Taster unique values: ' + str(df.taster_name.nunique()))\n",
    "print('Variety unique values: ' + str(df.variety.nunique()))\n",
    "print('Winery unique values: ' + str(df.winery.nunique()))\n",
    "print('Year review unique values: ' + str(df.year_review.nunique()))"
   ]
  },
  {
   "cell_type": "markdown",
   "metadata": {},
   "source": [
    "As we can see, there are too many distinct or unique values for Winery. Therefore, we will drop this column."
   ]
  },
  {
   "cell_type": "code",
   "execution_count": 515,
   "metadata": {},
   "outputs": [],
   "source": [
    "df.drop('winery', axis=1, inplace=True)"
   ]
  },
  {
   "cell_type": "markdown",
   "metadata": {},
   "source": [
    "---------------------------------------------"
   ]
  },
  {
   "cell_type": "markdown",
   "metadata": {},
   "source": [
    "## Feature extraction "
   ]
  },
  {
   "cell_type": "markdown",
   "metadata": {},
   "source": [
    "We will now extract extra information from certain columns. We will start by extracting the review year from the column 'title'."
   ]
  },
  {
   "cell_type": "code",
   "execution_count": 516,
   "metadata": {},
   "outputs": [
    {
     "data": {
      "text/html": [
       "<div>\n",
       "<style scoped>\n",
       "    .dataframe tbody tr th:only-of-type {\n",
       "        vertical-align: middle;\n",
       "    }\n",
       "\n",
       "    .dataframe tbody tr th {\n",
       "        vertical-align: top;\n",
       "    }\n",
       "\n",
       "    .dataframe thead th {\n",
       "        text-align: right;\n",
       "    }\n",
       "</style>\n",
       "<table border=\"1\" class=\"dataframe\">\n",
       "  <thead>\n",
       "    <tr style=\"text-align: right;\">\n",
       "      <th></th>\n",
       "      <th>country</th>\n",
       "      <th>description</th>\n",
       "      <th>designation</th>\n",
       "      <th>points</th>\n",
       "      <th>price</th>\n",
       "      <th>province</th>\n",
       "      <th>region_1</th>\n",
       "      <th>taster_name</th>\n",
       "      <th>title</th>\n",
       "      <th>variety</th>\n",
       "    </tr>\n",
       "  </thead>\n",
       "  <tbody>\n",
       "    <tr>\n",
       "      <th>0</th>\n",
       "      <td>Italy</td>\n",
       "      <td>Aromas include tropical fruit, broom, brimston...</td>\n",
       "      <td>Other</td>\n",
       "      <td>87</td>\n",
       "      <td>25.0</td>\n",
       "      <td>Sicily &amp; Sardinia</td>\n",
       "      <td>Other</td>\n",
       "      <td>Kerin O’Keefe</td>\n",
       "      <td>Nicosia 2013 Vulkà Bianco  (Etna)</td>\n",
       "      <td>Other</td>\n",
       "    </tr>\n",
       "    <tr>\n",
       "      <th>1</th>\n",
       "      <td>Portugal</td>\n",
       "      <td>This is ripe and fruity, a wine that is smooth...</td>\n",
       "      <td>Other</td>\n",
       "      <td>87</td>\n",
       "      <td>15.0</td>\n",
       "      <td>Other</td>\n",
       "      <td>Other</td>\n",
       "      <td>Roger Voss</td>\n",
       "      <td>Quinta dos Avidagos 2011 Avidagos Red (Douro)</td>\n",
       "      <td>Other</td>\n",
       "    </tr>\n",
       "    <tr>\n",
       "      <th>2</th>\n",
       "      <td>US</td>\n",
       "      <td>Tart and snappy, the flavors of lime flesh and...</td>\n",
       "      <td>Other</td>\n",
       "      <td>87</td>\n",
       "      <td>14.0</td>\n",
       "      <td>Oregon</td>\n",
       "      <td>Willamette Valley</td>\n",
       "      <td>Paul Gregutt</td>\n",
       "      <td>Rainstorm 2013 Pinot Gris (Willamette Valley)</td>\n",
       "      <td>Other</td>\n",
       "    </tr>\n",
       "    <tr>\n",
       "      <th>3</th>\n",
       "      <td>US</td>\n",
       "      <td>Pineapple rind, lemon pith and orange blossom ...</td>\n",
       "      <td>Other</td>\n",
       "      <td>87</td>\n",
       "      <td>13.0</td>\n",
       "      <td>Other</td>\n",
       "      <td>Other</td>\n",
       "      <td>Alexander Peartree</td>\n",
       "      <td>St. Julian 2013 Reserve Late Harvest Riesling ...</td>\n",
       "      <td>Riesling</td>\n",
       "    </tr>\n",
       "    <tr>\n",
       "      <th>4</th>\n",
       "      <td>US</td>\n",
       "      <td>Much like the regular bottling from 2012, this...</td>\n",
       "      <td>Other</td>\n",
       "      <td>87</td>\n",
       "      <td>65.0</td>\n",
       "      <td>Oregon</td>\n",
       "      <td>Willamette Valley</td>\n",
       "      <td>Paul Gregutt</td>\n",
       "      <td>Sweet Cheeks 2012 Vintner's Reserve Wild Child...</td>\n",
       "      <td>Pinot Noir</td>\n",
       "    </tr>\n",
       "  </tbody>\n",
       "</table>\n",
       "</div>"
      ],
      "text/plain": [
       "    country                                        description designation  points  price           province           region_1         taster_name                                              title     variety\n",
       "0     Italy  Aromas include tropical fruit, broom, brimston...       Other      87   25.0  Sicily & Sardinia              Other       Kerin O’Keefe                  Nicosia 2013 Vulkà Bianco  (Etna)       Other\n",
       "1  Portugal  This is ripe and fruity, a wine that is smooth...       Other      87   15.0              Other              Other          Roger Voss      Quinta dos Avidagos 2011 Avidagos Red (Douro)       Other\n",
       "2        US  Tart and snappy, the flavors of lime flesh and...       Other      87   14.0             Oregon  Willamette Valley        Paul Gregutt      Rainstorm 2013 Pinot Gris (Willamette Valley)       Other\n",
       "3        US  Pineapple rind, lemon pith and orange blossom ...       Other      87   13.0              Other              Other  Alexander Peartree  St. Julian 2013 Reserve Late Harvest Riesling ...    Riesling\n",
       "4        US  Much like the regular bottling from 2012, this...       Other      87   65.0             Oregon  Willamette Valley        Paul Gregutt  Sweet Cheeks 2012 Vintner's Reserve Wild Child...  Pinot Noir"
      ]
     },
     "execution_count": 516,
     "metadata": {},
     "output_type": "execute_result"
    }
   ],
   "source": [
    "df.head()"
   ]
  },
  {
   "cell_type": "markdown",
   "metadata": {},
   "source": [
    "For example, in row 1, we will extract '2013' from the string 'Nicosia 2013 Vulkà Bianco (Etna)'."
   ]
  },
  {
   "cell_type": "code",
   "execution_count": 517,
   "metadata": {},
   "outputs": [],
   "source": [
    "# Create new empty column 'year_review'\n",
    "df['year_review'] = ''"
   ]
  },
  {
   "cell_type": "code",
   "execution_count": 518,
   "metadata": {},
   "outputs": [],
   "source": [
    "df.loc[df['title'].str.contains('2008'), 'year_review'] = '2008'\n",
    "df.loc[df['title'].str.contains('2009'), 'year_review'] = '2009'\n",
    "df.loc[df['title'].str.contains('2010'), 'year_review'] = '2010'\n",
    "df.loc[df['title'].str.contains('2011'), 'year_review'] = '2011'\n",
    "df.loc[df['title'].str.contains('2012'), 'year_review'] = '2012'\n",
    "df.loc[df['title'].str.contains('2013'), 'year_review'] = '2013'\n",
    "df.loc[df['title'].str.contains('2014'), 'year_review'] = '2014'\n",
    "df.loc[df['title'].str.contains('2015'), 'year_review'] = '2015'"
   ]
  },
  {
   "cell_type": "code",
   "execution_count": 519,
   "metadata": {},
   "outputs": [
    {
     "data": {
      "text/html": [
       "<div>\n",
       "<style scoped>\n",
       "    .dataframe tbody tr th:only-of-type {\n",
       "        vertical-align: middle;\n",
       "    }\n",
       "\n",
       "    .dataframe tbody tr th {\n",
       "        vertical-align: top;\n",
       "    }\n",
       "\n",
       "    .dataframe thead th {\n",
       "        text-align: right;\n",
       "    }\n",
       "</style>\n",
       "<table border=\"1\" class=\"dataframe\">\n",
       "  <thead>\n",
       "    <tr style=\"text-align: right;\">\n",
       "      <th></th>\n",
       "      <th>country</th>\n",
       "      <th>description</th>\n",
       "      <th>designation</th>\n",
       "      <th>points</th>\n",
       "      <th>price</th>\n",
       "      <th>province</th>\n",
       "      <th>region_1</th>\n",
       "      <th>taster_name</th>\n",
       "      <th>title</th>\n",
       "      <th>variety</th>\n",
       "      <th>year_review</th>\n",
       "    </tr>\n",
       "  </thead>\n",
       "  <tbody>\n",
       "    <tr>\n",
       "      <th>0</th>\n",
       "      <td>Italy</td>\n",
       "      <td>Aromas include tropical fruit, broom, brimston...</td>\n",
       "      <td>Other</td>\n",
       "      <td>87</td>\n",
       "      <td>25.0</td>\n",
       "      <td>Sicily &amp; Sardinia</td>\n",
       "      <td>Other</td>\n",
       "      <td>Kerin O’Keefe</td>\n",
       "      <td>Nicosia 2013 Vulkà Bianco  (Etna)</td>\n",
       "      <td>Other</td>\n",
       "      <td>2013</td>\n",
       "    </tr>\n",
       "    <tr>\n",
       "      <th>1</th>\n",
       "      <td>Portugal</td>\n",
       "      <td>This is ripe and fruity, a wine that is smooth...</td>\n",
       "      <td>Other</td>\n",
       "      <td>87</td>\n",
       "      <td>15.0</td>\n",
       "      <td>Other</td>\n",
       "      <td>Other</td>\n",
       "      <td>Roger Voss</td>\n",
       "      <td>Quinta dos Avidagos 2011 Avidagos Red (Douro)</td>\n",
       "      <td>Other</td>\n",
       "      <td>2011</td>\n",
       "    </tr>\n",
       "    <tr>\n",
       "      <th>2</th>\n",
       "      <td>US</td>\n",
       "      <td>Tart and snappy, the flavors of lime flesh and...</td>\n",
       "      <td>Other</td>\n",
       "      <td>87</td>\n",
       "      <td>14.0</td>\n",
       "      <td>Oregon</td>\n",
       "      <td>Willamette Valley</td>\n",
       "      <td>Paul Gregutt</td>\n",
       "      <td>Rainstorm 2013 Pinot Gris (Willamette Valley)</td>\n",
       "      <td>Other</td>\n",
       "      <td>2013</td>\n",
       "    </tr>\n",
       "    <tr>\n",
       "      <th>3</th>\n",
       "      <td>US</td>\n",
       "      <td>Pineapple rind, lemon pith and orange blossom ...</td>\n",
       "      <td>Other</td>\n",
       "      <td>87</td>\n",
       "      <td>13.0</td>\n",
       "      <td>Other</td>\n",
       "      <td>Other</td>\n",
       "      <td>Alexander Peartree</td>\n",
       "      <td>St. Julian 2013 Reserve Late Harvest Riesling ...</td>\n",
       "      <td>Riesling</td>\n",
       "      <td>2013</td>\n",
       "    </tr>\n",
       "    <tr>\n",
       "      <th>4</th>\n",
       "      <td>US</td>\n",
       "      <td>Much like the regular bottling from 2012, this...</td>\n",
       "      <td>Other</td>\n",
       "      <td>87</td>\n",
       "      <td>65.0</td>\n",
       "      <td>Oregon</td>\n",
       "      <td>Willamette Valley</td>\n",
       "      <td>Paul Gregutt</td>\n",
       "      <td>Sweet Cheeks 2012 Vintner's Reserve Wild Child...</td>\n",
       "      <td>Pinot Noir</td>\n",
       "      <td>2012</td>\n",
       "    </tr>\n",
       "  </tbody>\n",
       "</table>\n",
       "</div>"
      ],
      "text/plain": [
       "    country                                        description designation  points  price           province           region_1         taster_name                                              title     variety year_review\n",
       "0     Italy  Aromas include tropical fruit, broom, brimston...       Other      87   25.0  Sicily & Sardinia              Other       Kerin O’Keefe                  Nicosia 2013 Vulkà Bianco  (Etna)       Other        2013\n",
       "1  Portugal  This is ripe and fruity, a wine that is smooth...       Other      87   15.0              Other              Other          Roger Voss      Quinta dos Avidagos 2011 Avidagos Red (Douro)       Other        2011\n",
       "2        US  Tart and snappy, the flavors of lime flesh and...       Other      87   14.0             Oregon  Willamette Valley        Paul Gregutt      Rainstorm 2013 Pinot Gris (Willamette Valley)       Other        2013\n",
       "3        US  Pineapple rind, lemon pith and orange blossom ...       Other      87   13.0              Other              Other  Alexander Peartree  St. Julian 2013 Reserve Late Harvest Riesling ...    Riesling        2013\n",
       "4        US  Much like the regular bottling from 2012, this...       Other      87   65.0             Oregon  Willamette Valley        Paul Gregutt  Sweet Cheeks 2012 Vintner's Reserve Wild Child...  Pinot Noir        2012"
      ]
     },
     "execution_count": 519,
     "metadata": {},
     "output_type": "execute_result"
    }
   ],
   "source": [
    "df.head()"
   ]
  },
  {
   "cell_type": "code",
   "execution_count": 522,
   "metadata": {
    "scrolled": true
   },
   "outputs": [
    {
     "data": {
      "text/html": [
       "<div>\n",
       "<style scoped>\n",
       "    .dataframe tbody tr th:only-of-type {\n",
       "        vertical-align: middle;\n",
       "    }\n",
       "\n",
       "    .dataframe tbody tr th {\n",
       "        vertical-align: top;\n",
       "    }\n",
       "\n",
       "    .dataframe thead th {\n",
       "        text-align: right;\n",
       "    }\n",
       "</style>\n",
       "<table border=\"1\" class=\"dataframe\">\n",
       "  <thead>\n",
       "    <tr style=\"text-align: right;\">\n",
       "      <th></th>\n",
       "      <th>country</th>\n",
       "      <th>description</th>\n",
       "      <th>designation</th>\n",
       "      <th>points</th>\n",
       "      <th>price</th>\n",
       "      <th>province</th>\n",
       "      <th>region_1</th>\n",
       "      <th>taster_name</th>\n",
       "      <th>title</th>\n",
       "      <th>variety</th>\n",
       "      <th>year_review</th>\n",
       "    </tr>\n",
       "  </thead>\n",
       "  <tbody>\n",
       "  </tbody>\n",
       "</table>\n",
       "</div>"
      ],
      "text/plain": [
       "Empty DataFrame\n",
       "Columns: [country, description, designation, points, price, province, region_1, taster_name, title, variety, year_review]\n",
       "Index: []"
      ]
     },
     "execution_count": 522,
     "metadata": {},
     "output_type": "execute_result"
    }
   ],
   "source": [
    "# Check if every row of year_review is filled\n",
    "df[df.year_review.isnull()]"
   ]
  },
  {
   "cell_type": "markdown",
   "metadata": {},
   "source": [
    "### Bag-of-words  "
   ]
  },
  {
   "cell_type": "markdown",
   "metadata": {},
   "source": [
    "Bag of words allows to represent text as numerical feature vectors. The idea is as follows:\n",
    "1. Create a vocabulary of unique tokens (words in text)\n",
    "2. Construct a feature vector from each row that contains the counts of how often each word occurs in that particular row"
   ]
  },
  {
   "cell_type": "code",
   "execution_count": 56,
   "metadata": {},
   "outputs": [],
   "source": [
    "# Text analysis: make a series of most common words in 'description' and vectorize them. For example: row 1{'fruit': 0,'tropical':1}"
   ]
  },
  {
   "cell_type": "markdown",
   "metadata": {},
   "source": [
    "First we will create a new feature: length of description. It could be an important indicator for the target variable 'points'."
   ]
  },
  {
   "cell_type": "code",
   "execution_count": 523,
   "metadata": {},
   "outputs": [],
   "source": [
    "df['length_description'] = df['description'].apply(len)"
   ]
  },
  {
   "cell_type": "code",
   "execution_count": 524,
   "metadata": {},
   "outputs": [
    {
     "data": {
      "text/plain": [
       "<matplotlib.axes._subplots.AxesSubplot at 0x26af4df48d0>"
      ]
     },
     "execution_count": 524,
     "metadata": {},
     "output_type": "execute_result"
    },
    {
     "data": {
      "image/png": "[encoded data removed]",
      "text/plain": [
       "<Figure size 432x288 with 1 Axes>"
      ]
     },
     "metadata": {},
     "output_type": "display_data"
    }
   ],
   "source": [
    "sns.distplot(df['length_description'],bins=100)"
   ]
  },
  {
   "cell_type": "code",
   "execution_count": 525,
   "metadata": {},
   "outputs": [
    {
     "data": {
      "text/plain": [
       "count    118781.000000\n",
       "mean        242.950043\n",
       "std          67.179376\n",
       "min          20.000000\n",
       "25%         197.000000\n",
       "50%         237.000000\n",
       "75%         283.000000\n",
       "max         829.000000\n",
       "Name: length_description, dtype: float64"
      ]
     },
     "execution_count": 525,
     "metadata": {},
     "output_type": "execute_result"
    }
   ],
   "source": [
    "df['length_description'].describe()"
   ]
  },
  {
   "cell_type": "markdown",
   "metadata": {},
   "source": [
    "We will check in a visual way if the length has a relation with the points. Where we will plot certain point ranges and the length of the description."
   ]
  },
  {
   "cell_type": "code",
   "execution_count": 526,
   "metadata": {},
   "outputs": [
    {
     "data": {
      "text/plain": [
       "(31426, 12)"
      ]
     },
     "execution_count": 526,
     "metadata": {},
     "output_type": "execute_result"
    }
   ],
   "source": [
    "# Rows with a high score, where the points are higher than 90\n",
    "df[df['points'] > 90].shape"
   ]
  },
  {
   "cell_type": "code",
   "execution_count": 527,
   "metadata": {},
   "outputs": [
    {
     "data": {
      "text/plain": [
       "(73199, 12)"
      ]
     },
     "execution_count": 527,
     "metadata": {},
     "output_type": "execute_result"
    }
   ],
   "source": [
    "# Rows with a low score, where the points are higher than 80, but lower than 90\n",
    "df[(df['points'] > 80) & (df['points'] < 90)].shape"
   ]
  },
  {
   "cell_type": "code",
   "execution_count": 528,
   "metadata": {},
   "outputs": [
    {
     "data": {
      "text/plain": [
       "<matplotlib.axes._subplots.AxesSubplot at 0x26af4d3d940>"
      ]
     },
     "execution_count": 528,
     "metadata": {},
     "output_type": "execute_result"
    },
    {
     "data": {
      "image/png": "[encoded data removed]",
      "text/plain": [
       "<Figure size 432x288 with 1 Axes>"
      ]
     },
     "metadata": {},
     "output_type": "display_data"
    }
   ],
   "source": [
    "sns.distplot(df[df['points'] > 90]['length_description'],bins=100, color='green')\n",
    "sns.distplot(df[(df['points'] > 80) & (df['points'] < 90)]['length_description'],bins=100, color='red')"
   ]
  },
  {
   "cell_type": "markdown",
   "metadata": {},
   "source": [
    "We can see that the average length of description of wine review are higher for review higher than 90 points. Therefore, we will take this variable into account when constructing ML models."
   ]
  },
  {
   "cell_type": "markdown",
   "metadata": {},
   "source": [
    "------------------------------------------------------------"
   ]
  },
  {
   "cell_type": "markdown",
   "metadata": {},
   "source": [
    "We will now drop all columns that are not needed anymore, such as 'description' and 'title'."
   ]
  },
  {
   "cell_type": "code",
   "execution_count": 529,
   "metadata": {},
   "outputs": [],
   "source": [
    "columns_todrop = ['description', 'title']\n",
    "df.drop(columns_todrop, inplace=True, axis=1)"
   ]
  },
  {
   "cell_type": "markdown",
   "metadata": {},
   "source": [
    "# Handling categorical data"
   ]
  },
  {
   "cell_type": "code",
   "execution_count": 530,
   "metadata": {},
   "outputs": [
    {
     "data": {
      "text/html": [
       "<div>\n",
       "<style scoped>\n",
       "    .dataframe tbody tr th:only-of-type {\n",
       "        vertical-align: middle;\n",
       "    }\n",
       "\n",
       "    .dataframe tbody tr th {\n",
       "        vertical-align: top;\n",
       "    }\n",
       "\n",
       "    .dataframe thead th {\n",
       "        text-align: right;\n",
       "    }\n",
       "</style>\n",
       "<table border=\"1\" class=\"dataframe\">\n",
       "  <thead>\n",
       "    <tr style=\"text-align: right;\">\n",
       "      <th></th>\n",
       "      <th>country</th>\n",
       "      <th>designation</th>\n",
       "      <th>points</th>\n",
       "      <th>price</th>\n",
       "      <th>province</th>\n",
       "      <th>region_1</th>\n",
       "      <th>taster_name</th>\n",
       "      <th>variety</th>\n",
       "      <th>year_review</th>\n",
       "      <th>length_description</th>\n",
       "    </tr>\n",
       "  </thead>\n",
       "  <tbody>\n",
       "    <tr>\n",
       "      <th>0</th>\n",
       "      <td>Italy</td>\n",
       "      <td>Other</td>\n",
       "      <td>87</td>\n",
       "      <td>25.0</td>\n",
       "      <td>Sicily &amp; Sardinia</td>\n",
       "      <td>Other</td>\n",
       "      <td>Kerin O’Keefe</td>\n",
       "      <td>Other</td>\n",
       "      <td>2013</td>\n",
       "      <td>172</td>\n",
       "    </tr>\n",
       "    <tr>\n",
       "      <th>1</th>\n",
       "      <td>Portugal</td>\n",
       "      <td>Other</td>\n",
       "      <td>87</td>\n",
       "      <td>15.0</td>\n",
       "      <td>Other</td>\n",
       "      <td>Other</td>\n",
       "      <td>Roger Voss</td>\n",
       "      <td>Other</td>\n",
       "      <td>2011</td>\n",
       "      <td>227</td>\n",
       "    </tr>\n",
       "    <tr>\n",
       "      <th>2</th>\n",
       "      <td>US</td>\n",
       "      <td>Other</td>\n",
       "      <td>87</td>\n",
       "      <td>14.0</td>\n",
       "      <td>Oregon</td>\n",
       "      <td>Willamette Valley</td>\n",
       "      <td>Paul Gregutt</td>\n",
       "      <td>Other</td>\n",
       "      <td>2013</td>\n",
       "      <td>186</td>\n",
       "    </tr>\n",
       "    <tr>\n",
       "      <th>3</th>\n",
       "      <td>US</td>\n",
       "      <td>Other</td>\n",
       "      <td>87</td>\n",
       "      <td>13.0</td>\n",
       "      <td>Other</td>\n",
       "      <td>Other</td>\n",
       "      <td>Alexander Peartree</td>\n",
       "      <td>Riesling</td>\n",
       "      <td>2013</td>\n",
       "      <td>199</td>\n",
       "    </tr>\n",
       "    <tr>\n",
       "      <th>4</th>\n",
       "      <td>US</td>\n",
       "      <td>Other</td>\n",
       "      <td>87</td>\n",
       "      <td>65.0</td>\n",
       "      <td>Oregon</td>\n",
       "      <td>Willamette Valley</td>\n",
       "      <td>Paul Gregutt</td>\n",
       "      <td>Pinot Noir</td>\n",
       "      <td>2012</td>\n",
       "      <td>249</td>\n",
       "    </tr>\n",
       "  </tbody>\n",
       "</table>\n",
       "</div>"
      ],
      "text/plain": [
       "    country designation  points  price           province           region_1         taster_name     variety year_review  length_description\n",
       "0     Italy       Other      87   25.0  Sicily & Sardinia              Other       Kerin O’Keefe       Other        2013                 172\n",
       "1  Portugal       Other      87   15.0              Other              Other          Roger Voss       Other        2011                 227\n",
       "2        US       Other      87   14.0             Oregon  Willamette Valley        Paul Gregutt       Other        2013                 186\n",
       "3        US       Other      87   13.0              Other              Other  Alexander Peartree    Riesling        2013                 199\n",
       "4        US       Other      87   65.0             Oregon  Willamette Valley        Paul Gregutt  Pinot Noir        2012                 249"
      ]
     },
     "execution_count": 530,
     "metadata": {},
     "output_type": "execute_result"
    }
   ],
   "source": [
    "df.head()"
   ]
  },
  {
   "cell_type": "code",
   "execution_count": 531,
   "metadata": {},
   "outputs": [
    {
     "name": "stdout",
     "output_type": "stream",
     "text": [
      "Number of Numerical features:  3\n",
      "Number of Categorical features:  7\n"
     ]
    }
   ],
   "source": [
    "numerical_feats = df.dtypes[df.dtypes != \"object\"].index\n",
    "print(\"Number of Numerical features: \", len(numerical_feats))\n",
    "\n",
    "categorical_feats = df.dtypes[df.dtypes == \"object\"].index\n",
    "print(\"Number of Categorical features: \", len(categorical_feats))"
   ]
  },
  {
   "cell_type": "code",
   "execution_count": 532,
   "metadata": {
    "scrolled": false
   },
   "outputs": [
    {
     "name": "stdout",
     "output_type": "stream",
     "text": [
      "US                        50229\n",
      "France                    19739\n",
      "Italy                     17805\n",
      "Spain                      6021\n",
      "Portugal                   5222\n",
      "Chile                      4178\n",
      "Argentina                  3543\n",
      "Austria                    3022\n",
      "Australia                  2183\n",
      "Germany                    1990\n",
      "South Africa               1301\n",
      "New Zealand                1276\n",
      "Israel                      466\n",
      "Greece                      429\n",
      "Canada                      226\n",
      "Bulgaria                    132\n",
      "Hungary                     129\n",
      "Romania                     101\n",
      "Uruguay                      98\n",
      "Turkey                       80\n",
      "Slovenia                     77\n",
      "Georgia                      76\n",
      "Croatia                      70\n",
      "Mexico                       68\n",
      "England                      63\n",
      "Moldova                      56\n",
      "Brazil                       49\n",
      "Lebanon                      32\n",
      "Morocco                      24\n",
      "Peru                         16\n",
      "Ukraine                      14\n",
      "Czech Republic               11\n",
      "Macedonia                    11\n",
      "Cyprus                       10\n",
      "India                         8\n",
      "Serbia                        8\n",
      "Switzerland                   6\n",
      "Luxembourg                    5\n",
      "Armenia                       2\n",
      "Bosnia and Herzegovina        2\n",
      "China                         1\n",
      "Egypt                         1\n",
      "Slovakia                      1\n",
      "Name: country, dtype: int64\n",
      "--------------------------------------------------\n",
      "Other             111576\n",
      "Reserve             1866\n",
      "Estate              1217\n",
      "Reserva             1175\n",
      "Riserva              645\n",
      "Estate Grown         565\n",
      "Brut                 385\n",
      "Dry                  375\n",
      "Barrel sample        348\n",
      "Estate Bottled       318\n",
      "Crianza              311\n",
      "Name: designation, dtype: int64\n",
      "--------------------------------------------------\n",
      "California            33470\n",
      "Other                 29439\n",
      "Washington             7944\n",
      "Bordeaux               5400\n",
      "Tuscany                5384\n",
      "Oregon                 4921\n",
      "Burgundy               3599\n",
      "Northern Spain         3547\n",
      "Piedmont               3427\n",
      "Mendoza Province       3037\n",
      "New York               2453\n",
      "Veneto                 2423\n",
      "Alsace                 2166\n",
      "Northeastern Italy     1956\n",
      "Loire Valley           1650\n",
      "Sicily & Sardinia      1631\n",
      "Southwest France       1379\n",
      "South Australia        1268\n",
      "Southern Italy         1254\n",
      "Champagne              1239\n",
      "Provence               1194\n",
      "Name: province, dtype: int64\n",
      "--------------------------------------------------\n",
      "Other                   94278\n",
      "Napa Valley              4160\n",
      "Columbia Valley (WA)     3780\n",
      "Russian River Valley     2854\n",
      "California               2413\n",
      "Mendoza                  2151\n",
      "Paso Robles              2138\n",
      "Willamette Valley        2110\n",
      "Alsace                   1960\n",
      "Barolo                   1492\n",
      "Finger Lakes             1445\n",
      "Name: region_1, dtype: int64\n",
      "--------------------------------------------------\n",
      "Unknown               24733\n",
      "Roger Voss            22960\n",
      "Michael Schachner     13937\n",
      "Kerin O’Keefe          9649\n",
      "Paul Gregutt           8848\n",
      "Virginie Boone         8674\n",
      "Matt Kettmann          5693\n",
      "Joe Czerwinski         4747\n",
      "Sean P. Sullivan       4442\n",
      "Anna Lee C. Iijima     4010\n",
      "Jim Gordon             3736\n",
      "Anne Krebiehl MW       3237\n",
      "Lauren Buzzeo          1697\n",
      "Susan Kostrzewa        1015\n",
      "Mike DeSimone           449\n",
      "Jeff Jenssen            415\n",
      "Alexander Peartree      383\n",
      "Carrie Dykes            127\n",
      "Fiona Adams              24\n",
      "Christina Pickard         5\n",
      "Name: taster_name, dtype: int64\n",
      "--------------------------------------------------\n",
      "Other                       53177\n",
      "Pinot Noir                  12191\n",
      "Chardonnay                  10778\n",
      "Cabernet Sauvignon           8822\n",
      "Red Blend                    8210\n",
      "Bordeaux-style Red Blend     6380\n",
      "Riesling                     4758\n",
      "Sauvignon Blanc              4542\n",
      "Syrah                        3822\n",
      "Rosé                         3214\n",
      "Merlot                       2887\n",
      "Name: variety, dtype: int64\n",
      "--------------------------------------------------\n",
      "        28436\n",
      "2012    14297\n",
      "2013    14252\n",
      "2014    13899\n",
      "2011    11503\n",
      "2010    11228\n",
      "2009     9256\n",
      "2015     8900\n",
      "2008     7010\n",
      "Name: year_review, dtype: int64\n",
      "--------------------------------------------------\n"
     ]
    }
   ],
   "source": [
    "for catg in list(categorical_feats) :\n",
    "    print(df[catg].value_counts())\n",
    "    print('-'*50)"
   ]
  },
  {
   "cell_type": "markdown",
   "metadata": {},
   "source": [
    "Before we create dummy variables for eacht categorical variable, we will first take a look how categorical values influence the target."
   ]
  },
  {
   "cell_type": "code",
   "execution_count": 533,
   "metadata": {},
   "outputs": [
    {
     "data": {
      "text/html": [
       "<div>\n",
       "<style scoped>\n",
       "    .dataframe tbody tr th:only-of-type {\n",
       "        vertical-align: middle;\n",
       "    }\n",
       "\n",
       "    .dataframe tbody tr th {\n",
       "        vertical-align: top;\n",
       "    }\n",
       "\n",
       "    .dataframe thead th {\n",
       "        text-align: right;\n",
       "    }\n",
       "</style>\n",
       "<table border=\"1\" class=\"dataframe\">\n",
       "  <thead>\n",
       "    <tr style=\"text-align: right;\">\n",
       "      <th></th>\n",
       "      <th>country</th>\n",
       "      <th>designation</th>\n",
       "      <th>points</th>\n",
       "      <th>price</th>\n",
       "      <th>province</th>\n",
       "      <th>region_1</th>\n",
       "      <th>taster_name</th>\n",
       "      <th>variety</th>\n",
       "      <th>year_review</th>\n",
       "      <th>length_description</th>\n",
       "    </tr>\n",
       "  </thead>\n",
       "  <tbody>\n",
       "    <tr>\n",
       "      <th>0</th>\n",
       "      <td>Italy</td>\n",
       "      <td>Other</td>\n",
       "      <td>87</td>\n",
       "      <td>25.0</td>\n",
       "      <td>Sicily &amp; Sardinia</td>\n",
       "      <td>Other</td>\n",
       "      <td>Kerin O’Keefe</td>\n",
       "      <td>Other</td>\n",
       "      <td>2013</td>\n",
       "      <td>172</td>\n",
       "    </tr>\n",
       "    <tr>\n",
       "      <th>1</th>\n",
       "      <td>Portugal</td>\n",
       "      <td>Other</td>\n",
       "      <td>87</td>\n",
       "      <td>15.0</td>\n",
       "      <td>Other</td>\n",
       "      <td>Other</td>\n",
       "      <td>Roger Voss</td>\n",
       "      <td>Other</td>\n",
       "      <td>2011</td>\n",
       "      <td>227</td>\n",
       "    </tr>\n",
       "    <tr>\n",
       "      <th>2</th>\n",
       "      <td>US</td>\n",
       "      <td>Other</td>\n",
       "      <td>87</td>\n",
       "      <td>14.0</td>\n",
       "      <td>Oregon</td>\n",
       "      <td>Willamette Valley</td>\n",
       "      <td>Paul Gregutt</td>\n",
       "      <td>Other</td>\n",
       "      <td>2013</td>\n",
       "      <td>186</td>\n",
       "    </tr>\n",
       "  </tbody>\n",
       "</table>\n",
       "</div>"
      ],
      "text/plain": [
       "    country designation  points  price           province           region_1    taster_name variety year_review  length_description\n",
       "0     Italy       Other      87   25.0  Sicily & Sardinia              Other  Kerin O’Keefe   Other        2013                 172\n",
       "1  Portugal       Other      87   15.0              Other              Other     Roger Voss   Other        2011                 227\n",
       "2        US       Other      87   14.0             Oregon  Willamette Valley   Paul Gregutt   Other        2013                 186"
      ]
     },
     "execution_count": 533,
     "metadata": {},
     "output_type": "execute_result"
    }
   ],
   "source": [
    "df.head(3)"
   ]
  },
  {
   "cell_type": "code",
   "execution_count": 534,
   "metadata": {},
   "outputs": [
    {
     "data": {
      "image/png": "[encoded data removed]",
      "text/plain": [
       "<Figure size 1087.2x595.44 with 1 Axes>"
      ]
     },
     "metadata": {},
     "output_type": "display_data"
    }
   ],
   "source": [
    "fig, ax = plt.subplots()\n",
    "fig.set_size_inches(15.1, 8.27)\n",
    "sns.set(style=\"darkgrid\",palette=\"husl\")\n",
    "sns.boxplot(x=df.country,y=df.points,data=df)\n",
    "\n",
    "plt.title('Points by country', fontsize=33)\n",
    "plt.ylabel(\"Points\", fontsize=20)\n",
    "plt.xlabel(\"Country\", fontsize = 20)\n",
    "plt.yticks(fontsize=15)\n",
    "plt.xticks(fontsize=5)\n",
    "plt.show()\n"
   ]
  },
  {
   "cell_type": "code",
   "execution_count": 535,
   "metadata": {},
   "outputs": [
    {
     "data": {
      "image/png": "[encoded data removed]",
      "text/plain": [
       "<Figure size 1087.2x595.44 with 1 Axes>"
      ]
     },
     "metadata": {},
     "output_type": "display_data"
    }
   ],
   "source": [
    "fig, ax = plt.subplots()\n",
    "fig.set_size_inches(15.1, 8.27)\n",
    "sns.set(style=\"darkgrid\",palette=\"husl\")\n",
    "sns.boxplot(x=df.designation,y=df.points,data=df)\n",
    "\n",
    "plt.title('Points by designation', fontsize=33)\n",
    "plt.ylabel(\"Points\", fontsize=20)\n",
    "plt.xlabel(\"Designation\", fontsize = 20)\n",
    "plt.yticks(fontsize=15)\n",
    "plt.xticks(fontsize=15)\n",
    "plt.show()"
   ]
  },
  {
   "cell_type": "code",
   "execution_count": 536,
   "metadata": {},
   "outputs": [
    {
     "data": {
      "image/png": "[encoded data removed]",
      "text/plain": [
       "<Figure size 1087.2x595.44 with 1 Axes>"
      ]
     },
     "metadata": {},
     "output_type": "display_data"
    }
   ],
   "source": [
    "fig, ax = plt.subplots()\n",
    "fig.set_size_inches(15.1, 8.27)\n",
    "sns.set(style=\"darkgrid\",palette=\"husl\")\n",
    "sns.boxplot(x=df.year_review,y=df.points,data=df)\n",
    "\n",
    "plt.title('Points by year review', fontsize=33)\n",
    "plt.ylabel(\"Points\", fontsize=20)\n",
    "plt.xlabel(\"Year\", fontsize = 20)\n",
    "plt.yticks(fontsize=15)\n",
    "plt.xticks(fontsize=15)\n",
    "plt.show()"
   ]
  },
  {
   "cell_type": "markdown",
   "metadata": {},
   "source": [
    "We will create dummy variables for all the categorical variables."
   ]
  },
  {
   "cell_type": "code",
   "execution_count": 537,
   "metadata": {},
   "outputs": [
    {
     "data": {
      "text/html": [
       "<div>\n",
       "<style scoped>\n",
       "    .dataframe tbody tr th:only-of-type {\n",
       "        vertical-align: middle;\n",
       "    }\n",
       "\n",
       "    .dataframe tbody tr th {\n",
       "        vertical-align: top;\n",
       "    }\n",
       "\n",
       "    .dataframe thead th {\n",
       "        text-align: right;\n",
       "    }\n",
       "</style>\n",
       "<table border=\"1\" class=\"dataframe\">\n",
       "  <thead>\n",
       "    <tr style=\"text-align: right;\">\n",
       "      <th></th>\n",
       "      <th>country</th>\n",
       "      <th>designation</th>\n",
       "      <th>points</th>\n",
       "      <th>price</th>\n",
       "      <th>province</th>\n",
       "      <th>region_1</th>\n",
       "      <th>taster_name</th>\n",
       "      <th>variety</th>\n",
       "      <th>year_review</th>\n",
       "      <th>length_description</th>\n",
       "    </tr>\n",
       "  </thead>\n",
       "  <tbody>\n",
       "    <tr>\n",
       "      <th>0</th>\n",
       "      <td>Italy</td>\n",
       "      <td>Other</td>\n",
       "      <td>87</td>\n",
       "      <td>25.0</td>\n",
       "      <td>Sicily &amp; Sardinia</td>\n",
       "      <td>Other</td>\n",
       "      <td>Kerin O’Keefe</td>\n",
       "      <td>Other</td>\n",
       "      <td>2013</td>\n",
       "      <td>172</td>\n",
       "    </tr>\n",
       "    <tr>\n",
       "      <th>1</th>\n",
       "      <td>Portugal</td>\n",
       "      <td>Other</td>\n",
       "      <td>87</td>\n",
       "      <td>15.0</td>\n",
       "      <td>Other</td>\n",
       "      <td>Other</td>\n",
       "      <td>Roger Voss</td>\n",
       "      <td>Other</td>\n",
       "      <td>2011</td>\n",
       "      <td>227</td>\n",
       "    </tr>\n",
       "    <tr>\n",
       "      <th>2</th>\n",
       "      <td>US</td>\n",
       "      <td>Other</td>\n",
       "      <td>87</td>\n",
       "      <td>14.0</td>\n",
       "      <td>Oregon</td>\n",
       "      <td>Willamette Valley</td>\n",
       "      <td>Paul Gregutt</td>\n",
       "      <td>Other</td>\n",
       "      <td>2013</td>\n",
       "      <td>186</td>\n",
       "    </tr>\n",
       "    <tr>\n",
       "      <th>3</th>\n",
       "      <td>US</td>\n",
       "      <td>Other</td>\n",
       "      <td>87</td>\n",
       "      <td>13.0</td>\n",
       "      <td>Other</td>\n",
       "      <td>Other</td>\n",
       "      <td>Alexander Peartree</td>\n",
       "      <td>Riesling</td>\n",
       "      <td>2013</td>\n",
       "      <td>199</td>\n",
       "    </tr>\n",
       "    <tr>\n",
       "      <th>4</th>\n",
       "      <td>US</td>\n",
       "      <td>Other</td>\n",
       "      <td>87</td>\n",
       "      <td>65.0</td>\n",
       "      <td>Oregon</td>\n",
       "      <td>Willamette Valley</td>\n",
       "      <td>Paul Gregutt</td>\n",
       "      <td>Pinot Noir</td>\n",
       "      <td>2012</td>\n",
       "      <td>249</td>\n",
       "    </tr>\n",
       "  </tbody>\n",
       "</table>\n",
       "</div>"
      ],
      "text/plain": [
       "    country designation  points  price           province           region_1         taster_name     variety year_review  length_description\n",
       "0     Italy       Other      87   25.0  Sicily & Sardinia              Other       Kerin O’Keefe       Other        2013                 172\n",
       "1  Portugal       Other      87   15.0              Other              Other          Roger Voss       Other        2011                 227\n",
       "2        US       Other      87   14.0             Oregon  Willamette Valley        Paul Gregutt       Other        2013                 186\n",
       "3        US       Other      87   13.0              Other              Other  Alexander Peartree    Riesling        2013                 199\n",
       "4        US       Other      87   65.0             Oregon  Willamette Valley        Paul Gregutt  Pinot Noir        2012                 249"
      ]
     },
     "execution_count": 537,
     "metadata": {},
     "output_type": "execute_result"
    }
   ],
   "source": [
    "df.head()"
   ]
  },
  {
   "cell_type": "code",
   "execution_count": 538,
   "metadata": {},
   "outputs": [],
   "source": [
    "df_dummies = pd.get_dummies(df[['country','designation','province','region_1','taster_name','variety','year_review']], drop_first = True)"
   ]
  },
  {
   "cell_type": "code",
   "execution_count": 539,
   "metadata": {},
   "outputs": [],
   "source": [
    "# Merge the dummies dataframe with the original dataframe\n",
    "df = pd.merge(df_dummies, df, left_index=True, right_index=True)"
   ]
  },
  {
   "cell_type": "markdown",
   "metadata": {},
   "source": [
    "Now we have to drop the non-dummy columns."
   ]
  },
  {
   "cell_type": "code",
   "execution_count": 540,
   "metadata": {},
   "outputs": [],
   "source": [
    "df.drop(['country','designation','province','region_1','taster_name','variety','year_review'],axis=1, inplace=True)"
   ]
  },
  {
   "cell_type": "markdown",
   "metadata": {},
   "source": [
    "# Standardize numerical variables "
   ]
  },
  {
   "cell_type": "markdown",
   "metadata": {},
   "source": [
    "Before we standardize the numerical variables, we will first check the distribution of them."
   ]
  },
  {
   "cell_type": "code",
   "execution_count": 542,
   "metadata": {},
   "outputs": [
    {
     "data": {
      "text/plain": [
       "<matplotlib.axes._subplots.AxesSubplot at 0x26ae7000e48>"
      ]
     },
     "execution_count": 542,
     "metadata": {},
     "output_type": "execute_result"
    },
    {
     "data": {
      "image/png": "[encoded data removed]",
      "text/plain": [
       "<Figure size 432x288 with 1 Axes>"
      ]
     },
     "metadata": {},
     "output_type": "display_data"
    }
   ],
   "source": [
    "sns.distplot(df['length_description'],bins=100)"
   ]
  },
  {
   "cell_type": "code",
   "execution_count": 543,
   "metadata": {},
   "outputs": [
    {
     "data": {
      "text/plain": [
       "<matplotlib.axes._subplots.AxesSubplot at 0x26b080e08d0>"
      ]
     },
     "execution_count": 543,
     "metadata": {},
     "output_type": "execute_result"
    },
    {
     "data": {
      "image/png": "[encoded data removed]",
      "text/plain": [
       "<Figure size 432x288 with 1 Axes>"
      ]
     },
     "metadata": {},
     "output_type": "display_data"
    }
   ],
   "source": [
    "sns.distplot(df['price'],bins=100)"
   ]
  },
  {
   "cell_type": "markdown",
   "metadata": {},
   "source": [
    "As we can see, the distribution of 'length_description' is normally distributed. However, 'price' has some heavy outliers. Therefore, we will first remove those outliers before scaling the variable."
   ]
  },
  {
   "cell_type": "code",
   "execution_count": 545,
   "metadata": {},
   "outputs": [
    {
     "data": {
      "text/plain": [
       "country_Armenia                   87\n",
       "country_Australia                 87\n",
       "country_Austria                   87\n",
       "country_Bosnia and Herzegovina    87\n",
       "country_Brazil                    87\n",
       "country_Bulgaria                  87\n",
       "country_Canada                    87\n",
       "country_Chile                     87\n",
       "country_China                     87\n",
       "country_Croatia                   87\n",
       "country_Cyprus                    87\n",
       "country_Czech Republic            87\n",
       "country_Egypt                     87\n",
       "country_England                   87\n",
       "country_France                    87\n",
       "country_Georgia                   87\n",
       "country_Germany                   87\n",
       "country_Greece                    87\n",
       "country_Hungary                   87\n",
       "country_India                     87\n",
       "country_Israel                    87\n",
       "country_Italy                     87\n",
       "country_Lebanon                   87\n",
       "country_Luxembourg                87\n",
       "country_Macedonia                 87\n",
       "country_Mexico                    87\n",
       "country_Moldova                   87\n",
       "country_Morocco                   87\n",
       "country_New Zealand               87\n",
       "country_Peru                      87\n",
       "                                  ..\n",
       "taster_name_Matt Kettmann         87\n",
       "taster_name_Michael Schachner     87\n",
       "taster_name_Mike DeSimone         87\n",
       "taster_name_Paul Gregutt          87\n",
       "taster_name_Roger Voss            87\n",
       "taster_name_Sean P. Sullivan      87\n",
       "taster_name_Susan Kostrzewa       87\n",
       "taster_name_Unknown               87\n",
       "taster_name_Virginie Boone        87\n",
       "variety_Cabernet Sauvignon        87\n",
       "variety_Chardonnay                87\n",
       "variety_Merlot                    87\n",
       "variety_Other                     87\n",
       "variety_Pinot Noir                87\n",
       "variety_Red Blend                 87\n",
       "variety_Riesling                  87\n",
       "variety_Rosé                      87\n",
       "variety_Sauvignon Blanc           87\n",
       "variety_Syrah                     87\n",
       "year_review_2008                  87\n",
       "year_review_2009                  87\n",
       "year_review_2010                  87\n",
       "year_review_2011                  87\n",
       "year_review_2012                  87\n",
       "year_review_2013                  87\n",
       "year_review_2014                  87\n",
       "year_review_2015                  87\n",
       "points                            87\n",
       "price                             87\n",
       "length_description                87\n",
       "Length: 122, dtype: int64"
      ]
     },
     "execution_count": 545,
     "metadata": {},
     "output_type": "execute_result"
    }
   ],
   "source": [
    "df[df['price']>500].count()"
   ]
  },
  {
   "cell_type": "markdown",
   "metadata": {},
   "source": [
    "Only 87 rows have a price higher than 500. Therefore we can remove those rows."
   ]
  },
  {
   "cell_type": "code",
   "execution_count": 546,
   "metadata": {},
   "outputs": [],
   "source": [
    "df = df.drop(df[df.price > 150].index)"
   ]
  },
  {
   "cell_type": "code",
   "execution_count": 548,
   "metadata": {},
   "outputs": [
    {
     "data": {
      "text/plain": [
       "<matplotlib.axes._subplots.AxesSubplot at 0x26b081ec550>"
      ]
     },
     "execution_count": 548,
     "metadata": {},
     "output_type": "execute_result"
    },
    {
     "data": {
      "image/png": "[encoded data removed]",
      "text/plain": [
       "<Figure size 432x288 with 1 Axes>"
      ]
     },
     "metadata": {},
     "output_type": "display_data"
    }
   ],
   "source": [
    "sns.distplot(df['price'],bins=100)"
   ]
  },
  {
   "cell_type": "markdown",
   "metadata": {},
   "source": [
    "We can see that the distribution of the price is better now without the heavy outliers."
   ]
  },
  {
   "cell_type": "code",
   "execution_count": 439,
   "metadata": {},
   "outputs": [],
   "source": [
    "# Numerical features to standardize: price, length_description"
   ]
  },
  {
   "cell_type": "code",
   "execution_count": 549,
   "metadata": {},
   "outputs": [],
   "source": [
    "from sklearn.preprocessing import StandardScaler\n",
    "scaler = StandardScaler()"
   ]
  },
  {
   "cell_type": "code",
   "execution_count": 550,
   "metadata": {},
   "outputs": [],
   "source": [
    "scaled_features = scaler.fit_transform(df[['price', 'length_description']])\n",
    "scaled_df = pd.DataFrame(scaled_features, columns=['price', 'length_description'])"
   ]
  },
  {
   "cell_type": "code",
   "execution_count": 551,
   "metadata": {},
   "outputs": [],
   "source": [
    "# Merge scaled_df with normal df on index\n",
    "df = pd.merge(scaled_df, df, left_index=True, right_index=True)"
   ]
  },
  {
   "cell_type": "code",
   "execution_count": 552,
   "metadata": {},
   "outputs": [],
   "source": [
    "# Drop non-standardizes variables from the dataframe\n",
    "columns = ['price_y', 'length_description_y']\n",
    "df.drop(columns, inplace=True, axis=1)"
   ]
  },
  {
   "cell_type": "markdown",
   "metadata": {},
   "source": [
    "# Data visualization"
   ]
  },
  {
   "cell_type": "code",
   "execution_count": 572,
   "metadata": {},
   "outputs": [
    {
     "data": {
      "text/html": [
       "<div>\n",
       "<style scoped>\n",
       "    .dataframe tbody tr th:only-of-type {\n",
       "        vertical-align: middle;\n",
       "    }\n",
       "\n",
       "    .dataframe tbody tr th {\n",
       "        vertical-align: top;\n",
       "    }\n",
       "\n",
       "    .dataframe thead th {\n",
       "        text-align: right;\n",
       "    }\n",
       "</style>\n",
       "<table border=\"1\" class=\"dataframe\">\n",
       "  <thead>\n",
       "    <tr style=\"text-align: right;\">\n",
       "      <th></th>\n",
       "      <th>price_x</th>\n",
       "      <th>length_description_x</th>\n",
       "      <th>country_Armenia</th>\n",
       "      <th>country_Australia</th>\n",
       "      <th>country_Austria</th>\n",
       "      <th>country_Bosnia and Herzegovina</th>\n",
       "      <th>country_Brazil</th>\n",
       "      <th>country_Bulgaria</th>\n",
       "      <th>country_Canada</th>\n",
       "      <th>country_Chile</th>\n",
       "      <th>country_China</th>\n",
       "      <th>country_Croatia</th>\n",
       "      <th>country_Cyprus</th>\n",
       "      <th>country_Czech Republic</th>\n",
       "      <th>country_Egypt</th>\n",
       "      <th>country_England</th>\n",
       "      <th>country_France</th>\n",
       "      <th>country_Georgia</th>\n",
       "      <th>country_Germany</th>\n",
       "      <th>country_Greece</th>\n",
       "      <th>country_Hungary</th>\n",
       "      <th>country_India</th>\n",
       "      <th>country_Israel</th>\n",
       "      <th>country_Italy</th>\n",
       "      <th>country_Lebanon</th>\n",
       "      <th>country_Luxembourg</th>\n",
       "      <th>country_Macedonia</th>\n",
       "      <th>country_Mexico</th>\n",
       "      <th>country_Moldova</th>\n",
       "      <th>country_Morocco</th>\n",
       "      <th>country_New Zealand</th>\n",
       "      <th>country_Peru</th>\n",
       "      <th>country_Portugal</th>\n",
       "      <th>country_Romania</th>\n",
       "      <th>country_Serbia</th>\n",
       "      <th>country_Slovakia</th>\n",
       "      <th>country_Slovenia</th>\n",
       "      <th>country_South Africa</th>\n",
       "      <th>country_Spain</th>\n",
       "      <th>country_Switzerland</th>\n",
       "      <th>country_Turkey</th>\n",
       "      <th>country_US</th>\n",
       "      <th>country_Ukraine</th>\n",
       "      <th>country_Uruguay</th>\n",
       "      <th>designation_Brut</th>\n",
       "      <th>designation_Crianza</th>\n",
       "      <th>designation_Dry</th>\n",
       "      <th>designation_Estate</th>\n",
       "      <th>designation_Estate Bottled</th>\n",
       "      <th>designation_Estate Grown</th>\n",
       "      <th>...</th>\n",
       "      <th>province_Veneto</th>\n",
       "      <th>province_Washington</th>\n",
       "      <th>region_1_Barolo</th>\n",
       "      <th>region_1_California</th>\n",
       "      <th>region_1_Columbia Valley (WA)</th>\n",
       "      <th>region_1_Finger Lakes</th>\n",
       "      <th>region_1_Mendoza</th>\n",
       "      <th>region_1_Napa Valley</th>\n",
       "      <th>region_1_Other</th>\n",
       "      <th>region_1_Paso Robles</th>\n",
       "      <th>region_1_Russian River Valley</th>\n",
       "      <th>region_1_Willamette Valley</th>\n",
       "      <th>taster_name_Anna Lee C. Iijima</th>\n",
       "      <th>taster_name_Anne Krebiehl MW</th>\n",
       "      <th>taster_name_Carrie Dykes</th>\n",
       "      <th>taster_name_Christina Pickard</th>\n",
       "      <th>taster_name_Fiona Adams</th>\n",
       "      <th>taster_name_Jeff Jenssen</th>\n",
       "      <th>taster_name_Jim Gordon</th>\n",
       "      <th>taster_name_Joe Czerwinski</th>\n",
       "      <th>taster_name_Kerin O’Keefe</th>\n",
       "      <th>taster_name_Lauren Buzzeo</th>\n",
       "      <th>taster_name_Matt Kettmann</th>\n",
       "      <th>taster_name_Michael Schachner</th>\n",
       "      <th>taster_name_Mike DeSimone</th>\n",
       "      <th>taster_name_Paul Gregutt</th>\n",
       "      <th>taster_name_Roger Voss</th>\n",
       "      <th>taster_name_Sean P. Sullivan</th>\n",
       "      <th>taster_name_Susan Kostrzewa</th>\n",
       "      <th>taster_name_Unknown</th>\n",
       "      <th>taster_name_Virginie Boone</th>\n",
       "      <th>variety_Cabernet Sauvignon</th>\n",
       "      <th>variety_Chardonnay</th>\n",
       "      <th>variety_Merlot</th>\n",
       "      <th>variety_Other</th>\n",
       "      <th>variety_Pinot Noir</th>\n",
       "      <th>variety_Red Blend</th>\n",
       "      <th>variety_Riesling</th>\n",
       "      <th>variety_Rosé</th>\n",
       "      <th>variety_Sauvignon Blanc</th>\n",
       "      <th>variety_Syrah</th>\n",
       "      <th>year_review_2008</th>\n",
       "      <th>year_review_2009</th>\n",
       "      <th>year_review_2010</th>\n",
       "      <th>year_review_2011</th>\n",
       "      <th>year_review_2012</th>\n",
       "      <th>year_review_2013</th>\n",
       "      <th>year_review_2014</th>\n",
       "      <th>year_review_2015</th>\n",
       "      <th>points</th>\n",
       "    </tr>\n",
       "  </thead>\n",
       "  <tbody>\n",
       "    <tr>\n",
       "      <th>0</th>\n",
       "      <td>-0.328446</td>\n",
       "      <td>-1.053357</td>\n",
       "      <td>0</td>\n",
       "      <td>0</td>\n",
       "      <td>0</td>\n",
       "      <td>0</td>\n",
       "      <td>0</td>\n",
       "      <td>0</td>\n",
       "      <td>0</td>\n",
       "      <td>0</td>\n",
       "      <td>0</td>\n",
       "      <td>0</td>\n",
       "      <td>0</td>\n",
       "      <td>0</td>\n",
       "      <td>0</td>\n",
       "      <td>0</td>\n",
       "      <td>0</td>\n",
       "      <td>0</td>\n",
       "      <td>0</td>\n",
       "      <td>0</td>\n",
       "      <td>0</td>\n",
       "      <td>0</td>\n",
       "      <td>0</td>\n",
       "      <td>1</td>\n",
       "      <td>0</td>\n",
       "      <td>0</td>\n",
       "      <td>0</td>\n",
       "      <td>0</td>\n",
       "      <td>0</td>\n",
       "      <td>0</td>\n",
       "      <td>0</td>\n",
       "      <td>0</td>\n",
       "      <td>0</td>\n",
       "      <td>0</td>\n",
       "      <td>0</td>\n",
       "      <td>0</td>\n",
       "      <td>0</td>\n",
       "      <td>0</td>\n",
       "      <td>0</td>\n",
       "      <td>0</td>\n",
       "      <td>0</td>\n",
       "      <td>0</td>\n",
       "      <td>0</td>\n",
       "      <td>0</td>\n",
       "      <td>0</td>\n",
       "      <td>0</td>\n",
       "      <td>0</td>\n",
       "      <td>0</td>\n",
       "      <td>0</td>\n",
       "      <td>0</td>\n",
       "      <td>...</td>\n",
       "      <td>0</td>\n",
       "      <td>0</td>\n",
       "      <td>0</td>\n",
       "      <td>0</td>\n",
       "      <td>0</td>\n",
       "      <td>0</td>\n",
       "      <td>0</td>\n",
       "      <td>0</td>\n",
       "      <td>1</td>\n",
       "      <td>0</td>\n",
       "      <td>0</td>\n",
       "      <td>0</td>\n",
       "      <td>0</td>\n",
       "      <td>0</td>\n",
       "      <td>0</td>\n",
       "      <td>0</td>\n",
       "      <td>0</td>\n",
       "      <td>0</td>\n",
       "      <td>0</td>\n",
       "      <td>0</td>\n",
       "      <td>1</td>\n",
       "      <td>0</td>\n",
       "      <td>0</td>\n",
       "      <td>0</td>\n",
       "      <td>0</td>\n",
       "      <td>0</td>\n",
       "      <td>0</td>\n",
       "      <td>0</td>\n",
       "      <td>0</td>\n",
       "      <td>0</td>\n",
       "      <td>0</td>\n",
       "      <td>0</td>\n",
       "      <td>0</td>\n",
       "      <td>0</td>\n",
       "      <td>1</td>\n",
       "      <td>0</td>\n",
       "      <td>0</td>\n",
       "      <td>0</td>\n",
       "      <td>0</td>\n",
       "      <td>0</td>\n",
       "      <td>0</td>\n",
       "      <td>0</td>\n",
       "      <td>0</td>\n",
       "      <td>0</td>\n",
       "      <td>0</td>\n",
       "      <td>0</td>\n",
       "      <td>1</td>\n",
       "      <td>0</td>\n",
       "      <td>0</td>\n",
       "      <td>87</td>\n",
       "    </tr>\n",
       "    <tr>\n",
       "      <th>1</th>\n",
       "      <td>-0.777423</td>\n",
       "      <td>-0.228975</td>\n",
       "      <td>0</td>\n",
       "      <td>0</td>\n",
       "      <td>0</td>\n",
       "      <td>0</td>\n",
       "      <td>0</td>\n",
       "      <td>0</td>\n",
       "      <td>0</td>\n",
       "      <td>0</td>\n",
       "      <td>0</td>\n",
       "      <td>0</td>\n",
       "      <td>0</td>\n",
       "      <td>0</td>\n",
       "      <td>0</td>\n",
       "      <td>0</td>\n",
       "      <td>0</td>\n",
       "      <td>0</td>\n",
       "      <td>0</td>\n",
       "      <td>0</td>\n",
       "      <td>0</td>\n",
       "      <td>0</td>\n",
       "      <td>0</td>\n",
       "      <td>0</td>\n",
       "      <td>0</td>\n",
       "      <td>0</td>\n",
       "      <td>0</td>\n",
       "      <td>0</td>\n",
       "      <td>0</td>\n",
       "      <td>0</td>\n",
       "      <td>0</td>\n",
       "      <td>0</td>\n",
       "      <td>1</td>\n",
       "      <td>0</td>\n",
       "      <td>0</td>\n",
       "      <td>0</td>\n",
       "      <td>0</td>\n",
       "      <td>0</td>\n",
       "      <td>0</td>\n",
       "      <td>0</td>\n",
       "      <td>0</td>\n",
       "      <td>0</td>\n",
       "      <td>0</td>\n",
       "      <td>0</td>\n",
       "      <td>0</td>\n",
       "      <td>0</td>\n",
       "      <td>0</td>\n",
       "      <td>0</td>\n",
       "      <td>0</td>\n",
       "      <td>0</td>\n",
       "      <td>...</td>\n",
       "      <td>0</td>\n",
       "      <td>0</td>\n",
       "      <td>0</td>\n",
       "      <td>0</td>\n",
       "      <td>0</td>\n",
       "      <td>0</td>\n",
       "      <td>0</td>\n",
       "      <td>0</td>\n",
       "      <td>1</td>\n",
       "      <td>0</td>\n",
       "      <td>0</td>\n",
       "      <td>0</td>\n",
       "      <td>0</td>\n",
       "      <td>0</td>\n",
       "      <td>0</td>\n",
       "      <td>0</td>\n",
       "      <td>0</td>\n",
       "      <td>0</td>\n",
       "      <td>0</td>\n",
       "      <td>0</td>\n",
       "      <td>0</td>\n",
       "      <td>0</td>\n",
       "      <td>0</td>\n",
       "      <td>0</td>\n",
       "      <td>0</td>\n",
       "      <td>0</td>\n",
       "      <td>1</td>\n",
       "      <td>0</td>\n",
       "      <td>0</td>\n",
       "      <td>0</td>\n",
       "      <td>0</td>\n",
       "      <td>0</td>\n",
       "      <td>0</td>\n",
       "      <td>0</td>\n",
       "      <td>1</td>\n",
       "      <td>0</td>\n",
       "      <td>0</td>\n",
       "      <td>0</td>\n",
       "      <td>0</td>\n",
       "      <td>0</td>\n",
       "      <td>0</td>\n",
       "      <td>0</td>\n",
       "      <td>0</td>\n",
       "      <td>0</td>\n",
       "      <td>1</td>\n",
       "      <td>0</td>\n",
       "      <td>0</td>\n",
       "      <td>0</td>\n",
       "      <td>0</td>\n",
       "      <td>87</td>\n",
       "    </tr>\n",
       "    <tr>\n",
       "      <th>2</th>\n",
       "      <td>-0.822321</td>\n",
       "      <td>-0.843514</td>\n",
       "      <td>0</td>\n",
       "      <td>0</td>\n",
       "      <td>0</td>\n",
       "      <td>0</td>\n",
       "      <td>0</td>\n",
       "      <td>0</td>\n",
       "      <td>0</td>\n",
       "      <td>0</td>\n",
       "      <td>0</td>\n",
       "      <td>0</td>\n",
       "      <td>0</td>\n",
       "      <td>0</td>\n",
       "      <td>0</td>\n",
       "      <td>0</td>\n",
       "      <td>0</td>\n",
       "      <td>0</td>\n",
       "      <td>0</td>\n",
       "      <td>0</td>\n",
       "      <td>0</td>\n",
       "      <td>0</td>\n",
       "      <td>0</td>\n",
       "      <td>0</td>\n",
       "      <td>0</td>\n",
       "      <td>0</td>\n",
       "      <td>0</td>\n",
       "      <td>0</td>\n",
       "      <td>0</td>\n",
       "      <td>0</td>\n",
       "      <td>0</td>\n",
       "      <td>0</td>\n",
       "      <td>0</td>\n",
       "      <td>0</td>\n",
       "      <td>0</td>\n",
       "      <td>0</td>\n",
       "      <td>0</td>\n",
       "      <td>0</td>\n",
       "      <td>0</td>\n",
       "      <td>0</td>\n",
       "      <td>0</td>\n",
       "      <td>1</td>\n",
       "      <td>0</td>\n",
       "      <td>0</td>\n",
       "      <td>0</td>\n",
       "      <td>0</td>\n",
       "      <td>0</td>\n",
       "      <td>0</td>\n",
       "      <td>0</td>\n",
       "      <td>0</td>\n",
       "      <td>...</td>\n",
       "      <td>0</td>\n",
       "      <td>0</td>\n",
       "      <td>0</td>\n",
       "      <td>0</td>\n",
       "      <td>0</td>\n",
       "      <td>0</td>\n",
       "      <td>0</td>\n",
       "      <td>0</td>\n",
       "      <td>0</td>\n",
       "      <td>0</td>\n",
       "      <td>0</td>\n",
       "      <td>1</td>\n",
       "      <td>0</td>\n",
       "      <td>0</td>\n",
       "      <td>0</td>\n",
       "      <td>0</td>\n",
       "      <td>0</td>\n",
       "      <td>0</td>\n",
       "      <td>0</td>\n",
       "      <td>0</td>\n",
       "      <td>0</td>\n",
       "      <td>0</td>\n",
       "      <td>0</td>\n",
       "      <td>0</td>\n",
       "      <td>0</td>\n",
       "      <td>1</td>\n",
       "      <td>0</td>\n",
       "      <td>0</td>\n",
       "      <td>0</td>\n",
       "      <td>0</td>\n",
       "      <td>0</td>\n",
       "      <td>0</td>\n",
       "      <td>0</td>\n",
       "      <td>0</td>\n",
       "      <td>1</td>\n",
       "      <td>0</td>\n",
       "      <td>0</td>\n",
       "      <td>0</td>\n",
       "      <td>0</td>\n",
       "      <td>0</td>\n",
       "      <td>0</td>\n",
       "      <td>0</td>\n",
       "      <td>0</td>\n",
       "      <td>0</td>\n",
       "      <td>0</td>\n",
       "      <td>0</td>\n",
       "      <td>1</td>\n",
       "      <td>0</td>\n",
       "      <td>0</td>\n",
       "      <td>87</td>\n",
       "    </tr>\n",
       "    <tr>\n",
       "      <th>3</th>\n",
       "      <td>-0.867219</td>\n",
       "      <td>-0.648660</td>\n",
       "      <td>0</td>\n",
       "      <td>0</td>\n",
       "      <td>0</td>\n",
       "      <td>0</td>\n",
       "      <td>0</td>\n",
       "      <td>0</td>\n",
       "      <td>0</td>\n",
       "      <td>0</td>\n",
       "      <td>0</td>\n",
       "      <td>0</td>\n",
       "      <td>0</td>\n",
       "      <td>0</td>\n",
       "      <td>0</td>\n",
       "      <td>0</td>\n",
       "      <td>0</td>\n",
       "      <td>0</td>\n",
       "      <td>0</td>\n",
       "      <td>0</td>\n",
       "      <td>0</td>\n",
       "      <td>0</td>\n",
       "      <td>0</td>\n",
       "      <td>0</td>\n",
       "      <td>0</td>\n",
       "      <td>0</td>\n",
       "      <td>0</td>\n",
       "      <td>0</td>\n",
       "      <td>0</td>\n",
       "      <td>0</td>\n",
       "      <td>0</td>\n",
       "      <td>0</td>\n",
       "      <td>0</td>\n",
       "      <td>0</td>\n",
       "      <td>0</td>\n",
       "      <td>0</td>\n",
       "      <td>0</td>\n",
       "      <td>0</td>\n",
       "      <td>0</td>\n",
       "      <td>0</td>\n",
       "      <td>0</td>\n",
       "      <td>1</td>\n",
       "      <td>0</td>\n",
       "      <td>0</td>\n",
       "      <td>0</td>\n",
       "      <td>0</td>\n",
       "      <td>0</td>\n",
       "      <td>0</td>\n",
       "      <td>0</td>\n",
       "      <td>0</td>\n",
       "      <td>...</td>\n",
       "      <td>0</td>\n",
       "      <td>0</td>\n",
       "      <td>0</td>\n",
       "      <td>0</td>\n",
       "      <td>0</td>\n",
       "      <td>0</td>\n",
       "      <td>0</td>\n",
       "      <td>0</td>\n",
       "      <td>1</td>\n",
       "      <td>0</td>\n",
       "      <td>0</td>\n",
       "      <td>0</td>\n",
       "      <td>0</td>\n",
       "      <td>0</td>\n",
       "      <td>0</td>\n",
       "      <td>0</td>\n",
       "      <td>0</td>\n",
       "      <td>0</td>\n",
       "      <td>0</td>\n",
       "      <td>0</td>\n",
       "      <td>0</td>\n",
       "      <td>0</td>\n",
       "      <td>0</td>\n",
       "      <td>0</td>\n",
       "      <td>0</td>\n",
       "      <td>0</td>\n",
       "      <td>0</td>\n",
       "      <td>0</td>\n",
       "      <td>0</td>\n",
       "      <td>0</td>\n",
       "      <td>0</td>\n",
       "      <td>0</td>\n",
       "      <td>0</td>\n",
       "      <td>0</td>\n",
       "      <td>0</td>\n",
       "      <td>0</td>\n",
       "      <td>0</td>\n",
       "      <td>1</td>\n",
       "      <td>0</td>\n",
       "      <td>0</td>\n",
       "      <td>0</td>\n",
       "      <td>0</td>\n",
       "      <td>0</td>\n",
       "      <td>0</td>\n",
       "      <td>0</td>\n",
       "      <td>0</td>\n",
       "      <td>1</td>\n",
       "      <td>0</td>\n",
       "      <td>0</td>\n",
       "      <td>87</td>\n",
       "    </tr>\n",
       "    <tr>\n",
       "      <th>4</th>\n",
       "      <td>1.467461</td>\n",
       "      <td>0.100778</td>\n",
       "      <td>0</td>\n",
       "      <td>0</td>\n",
       "      <td>0</td>\n",
       "      <td>0</td>\n",
       "      <td>0</td>\n",
       "      <td>0</td>\n",
       "      <td>0</td>\n",
       "      <td>0</td>\n",
       "      <td>0</td>\n",
       "      <td>0</td>\n",
       "      <td>0</td>\n",
       "      <td>0</td>\n",
       "      <td>0</td>\n",
       "      <td>0</td>\n",
       "      <td>0</td>\n",
       "      <td>0</td>\n",
       "      <td>0</td>\n",
       "      <td>0</td>\n",
       "      <td>0</td>\n",
       "      <td>0</td>\n",
       "      <td>0</td>\n",
       "      <td>0</td>\n",
       "      <td>0</td>\n",
       "      <td>0</td>\n",
       "      <td>0</td>\n",
       "      <td>0</td>\n",
       "      <td>0</td>\n",
       "      <td>0</td>\n",
       "      <td>0</td>\n",
       "      <td>0</td>\n",
       "      <td>0</td>\n",
       "      <td>0</td>\n",
       "      <td>0</td>\n",
       "      <td>0</td>\n",
       "      <td>0</td>\n",
       "      <td>0</td>\n",
       "      <td>0</td>\n",
       "      <td>0</td>\n",
       "      <td>0</td>\n",
       "      <td>1</td>\n",
       "      <td>0</td>\n",
       "      <td>0</td>\n",
       "      <td>0</td>\n",
       "      <td>0</td>\n",
       "      <td>0</td>\n",
       "      <td>0</td>\n",
       "      <td>0</td>\n",
       "      <td>0</td>\n",
       "      <td>...</td>\n",
       "      <td>0</td>\n",
       "      <td>0</td>\n",
       "      <td>0</td>\n",
       "      <td>0</td>\n",
       "      <td>0</td>\n",
       "      <td>0</td>\n",
       "      <td>0</td>\n",
       "      <td>0</td>\n",
       "      <td>0</td>\n",
       "      <td>0</td>\n",
       "      <td>0</td>\n",
       "      <td>1</td>\n",
       "      <td>0</td>\n",
       "      <td>0</td>\n",
       "      <td>0</td>\n",
       "      <td>0</td>\n",
       "      <td>0</td>\n",
       "      <td>0</td>\n",
       "      <td>0</td>\n",
       "      <td>0</td>\n",
       "      <td>0</td>\n",
       "      <td>0</td>\n",
       "      <td>0</td>\n",
       "      <td>0</td>\n",
       "      <td>0</td>\n",
       "      <td>1</td>\n",
       "      <td>0</td>\n",
       "      <td>0</td>\n",
       "      <td>0</td>\n",
       "      <td>0</td>\n",
       "      <td>0</td>\n",
       "      <td>0</td>\n",
       "      <td>0</td>\n",
       "      <td>0</td>\n",
       "      <td>0</td>\n",
       "      <td>1</td>\n",
       "      <td>0</td>\n",
       "      <td>0</td>\n",
       "      <td>0</td>\n",
       "      <td>0</td>\n",
       "      <td>0</td>\n",
       "      <td>0</td>\n",
       "      <td>0</td>\n",
       "      <td>0</td>\n",
       "      <td>0</td>\n",
       "      <td>1</td>\n",
       "      <td>0</td>\n",
       "      <td>0</td>\n",
       "      <td>0</td>\n",
       "      <td>87</td>\n",
       "    </tr>\n",
       "  </tbody>\n",
       "</table>\n",
       "<p>5 rows × 122 columns</p>\n",
       "</div>"
      ],
      "text/plain": [
       "    price_x  length_description_x  country_Armenia  country_Australia  country_Austria  country_Bosnia and Herzegovina  country_Brazil  country_Bulgaria  country_Canada  country_Chile  country_China  country_Croatia  country_Cyprus  country_Czech Republic  country_Egypt  country_England  country_France  country_Georgia  country_Germany  country_Greece  country_Hungary  country_India  country_Israel  country_Italy  country_Lebanon  country_Luxembourg  country_Macedonia  country_Mexico  \\\n",
       "0 -0.328446             -1.053357                0                  0                0                               0               0                 0               0              0              0                0               0                       0              0                0               0                0                0               0                0              0               0              1                0                   0                  0               0   \n",
       "1 -0.777423             -0.228975                0                  0                0                               0               0                 0               0              0              0                0               0                       0              0                0               0                0                0               0                0              0               0              0                0                   0                  0               0   \n",
       "2 -0.822321             -0.843514                0                  0                0                               0               0                 0               0              0              0                0               0                       0              0                0               0                0                0               0                0              0               0              0                0                   0                  0               0   \n",
       "3 -0.867219             -0.648660                0                  0                0                               0               0                 0               0              0              0                0               0                       0              0                0               0                0                0               0                0              0               0              0                0                   0                  0               0   \n",
       "4  1.467461              0.100778                0                  0                0                               0               0                 0               0              0              0                0               0                       0              0                0               0                0                0               0                0              0               0              0                0                   0                  0               0   \n",
       "\n",
       "   country_Moldova  country_Morocco  country_New Zealand  country_Peru  country_Portugal  country_Romania  country_Serbia  country_Slovakia  country_Slovenia  country_South Africa  country_Spain  country_Switzerland  country_Turkey  country_US  country_Ukraine  country_Uruguay  designation_Brut  designation_Crianza  designation_Dry  designation_Estate  designation_Estate Bottled  designation_Estate Grown   ...    province_Veneto  province_Washington  region_1_Barolo  region_1_California  \\\n",
       "0                0                0                    0             0                 0                0               0                 0                 0                     0              0                    0               0           0                0                0                 0                    0                0                   0                           0                         0   ...                  0                    0                0                    0   \n",
       "1                0                0                    0             0                 1                0               0                 0                 0                     0              0                    0               0           0                0                0                 0                    0                0                   0                           0                         0   ...                  0                    0                0                    0   \n",
       "2                0                0                    0             0                 0                0               0                 0                 0                     0              0                    0               0           1                0                0                 0                    0                0                   0                           0                         0   ...                  0                    0                0                    0   \n",
       "3                0                0                    0             0                 0                0               0                 0                 0                     0              0                    0               0           1                0                0                 0                    0                0                   0                           0                         0   ...                  0                    0                0                    0   \n",
       "4                0                0                    0             0                 0                0               0                 0                 0                     0              0                    0               0           1                0                0                 0                    0                0                   0                           0                         0   ...                  0                    0                0                    0   \n",
       "\n",
       "   region_1_Columbia Valley (WA)  region_1_Finger Lakes  region_1_Mendoza  region_1_Napa Valley  region_1_Other  region_1_Paso Robles  region_1_Russian River Valley  region_1_Willamette Valley  taster_name_Anna Lee C. Iijima  taster_name_Anne Krebiehl MW  taster_name_Carrie Dykes  taster_name_Christina Pickard  taster_name_Fiona Adams  taster_name_Jeff Jenssen  taster_name_Jim Gordon  taster_name_Joe Czerwinski  taster_name_Kerin O’Keefe  taster_name_Lauren Buzzeo  taster_name_Matt Kettmann  \\\n",
       "0                              0                      0                 0                     0               1                     0                              0                           0                               0                             0                         0                              0                        0                         0                       0                           0                          1                          0                          0   \n",
       "1                              0                      0                 0                     0               1                     0                              0                           0                               0                             0                         0                              0                        0                         0                       0                           0                          0                          0                          0   \n",
       "2                              0                      0                 0                     0               0                     0                              0                           1                               0                             0                         0                              0                        0                         0                       0                           0                          0                          0                          0   \n",
       "3                              0                      0                 0                     0               1                     0                              0                           0                               0                             0                         0                              0                        0                         0                       0                           0                          0                          0                          0   \n",
       "4                              0                      0                 0                     0               0                     0                              0                           1                               0                             0                         0                              0                        0                         0                       0                           0                          0                          0                          0   \n",
       "\n",
       "   taster_name_Michael Schachner  taster_name_Mike DeSimone  taster_name_Paul Gregutt  taster_name_Roger Voss  taster_name_Sean P. Sullivan  taster_name_Susan Kostrzewa  taster_name_Unknown  taster_name_Virginie Boone  variety_Cabernet Sauvignon  variety_Chardonnay  variety_Merlot  variety_Other  variety_Pinot Noir  variety_Red Blend  variety_Riesling  variety_Rosé  variety_Sauvignon Blanc  variety_Syrah  year_review_2008  year_review_2009  year_review_2010  year_review_2011  year_review_2012  \\\n",
       "0                              0                          0                         0                       0                             0                            0                    0                           0                           0                   0               0              1                   0                  0                 0             0                        0              0                 0                 0                 0                 0                 0   \n",
       "1                              0                          0                         0                       1                             0                            0                    0                           0                           0                   0               0              1                   0                  0                 0             0                        0              0                 0                 0                 0                 1                 0   \n",
       "2                              0                          0                         1                       0                             0                            0                    0                           0                           0                   0               0              1                   0                  0                 0             0                        0              0                 0                 0                 0                 0                 0   \n",
       "3                              0                          0                         0                       0                             0                            0                    0                           0                           0                   0               0              0                   0                  0                 1             0                        0              0                 0                 0                 0                 0                 0   \n",
       "4                              0                          0                         1                       0                             0                            0                    0                           0                           0                   0               0              0                   1                  0                 0             0                        0              0                 0                 0                 0                 0                 1   \n",
       "\n",
       "   year_review_2013  year_review_2014  year_review_2015  points  \n",
       "0                 1                 0                 0      87  \n",
       "1                 0                 0                 0      87  \n",
       "2                 1                 0                 0      87  \n",
       "3                 1                 0                 0      87  \n",
       "4                 0                 0                 0      87  \n",
       "\n",
       "[5 rows x 122 columns]"
      ]
     },
     "execution_count": 572,
     "metadata": {},
     "output_type": "execute_result"
    }
   ],
   "source": [
    "df.head()"
   ]
  },
  {
   "cell_type": "code",
   "execution_count": 570,
   "metadata": {},
   "outputs": [],
   "source": [
    "# Relationship between price and points"
   ]
  },
  {
   "cell_type": "code",
   "execution_count": 574,
   "metadata": {},
   "outputs": [
    {
     "data": {
      "image/png": "[encoded data removed]",
      "text/plain": [
       "<Figure size 360x360 with 1 Axes>"
      ]
     },
     "metadata": {},
     "output_type": "display_data"
    }
   ],
   "source": [
    "sns.lmplot(x=\"length_description_x\", y=\"points\", data=df);"
   ]
  },
  {
   "cell_type": "markdown",
   "metadata": {},
   "source": [
    "# Learning and evaluation"
   ]
  },
  {
   "cell_type": "code",
   "execution_count": 553,
   "metadata": {},
   "outputs": [],
   "source": [
    "from sklearn.model_selection import GridSearchCV\n",
    "from sklearn.model_selection import cross_val_score"
   ]
  },
  {
   "cell_type": "code",
   "execution_count": 554,
   "metadata": {},
   "outputs": [
    {
     "data": {
      "text/plain": [
       "(107356, 122)"
      ]
     },
     "execution_count": 554,
     "metadata": {},
     "output_type": "execute_result"
    }
   ],
   "source": [
    "df.shape"
   ]
  },
  {
   "cell_type": "code",
   "execution_count": 555,
   "metadata": {},
   "outputs": [
    {
     "data": {
      "text/html": [
       "<div>\n",
       "<style scoped>\n",
       "    .dataframe tbody tr th:only-of-type {\n",
       "        vertical-align: middle;\n",
       "    }\n",
       "\n",
       "    .dataframe tbody tr th {\n",
       "        vertical-align: top;\n",
       "    }\n",
       "\n",
       "    .dataframe thead th {\n",
       "        text-align: right;\n",
       "    }\n",
       "</style>\n",
       "<table border=\"1\" class=\"dataframe\">\n",
       "  <thead>\n",
       "    <tr style=\"text-align: right;\">\n",
       "      <th></th>\n",
       "      <th>price_x</th>\n",
       "      <th>length_description_x</th>\n",
       "      <th>country_Armenia</th>\n",
       "      <th>country_Australia</th>\n",
       "      <th>country_Austria</th>\n",
       "      <th>country_Bosnia and Herzegovina</th>\n",
       "      <th>country_Brazil</th>\n",
       "      <th>country_Bulgaria</th>\n",
       "      <th>country_Canada</th>\n",
       "      <th>country_Chile</th>\n",
       "      <th>country_China</th>\n",
       "      <th>country_Croatia</th>\n",
       "      <th>country_Cyprus</th>\n",
       "      <th>country_Czech Republic</th>\n",
       "      <th>country_Egypt</th>\n",
       "      <th>country_England</th>\n",
       "      <th>country_France</th>\n",
       "      <th>country_Georgia</th>\n",
       "      <th>country_Germany</th>\n",
       "      <th>country_Greece</th>\n",
       "      <th>country_Hungary</th>\n",
       "      <th>country_India</th>\n",
       "      <th>country_Israel</th>\n",
       "      <th>country_Italy</th>\n",
       "      <th>country_Lebanon</th>\n",
       "      <th>country_Luxembourg</th>\n",
       "      <th>country_Macedonia</th>\n",
       "      <th>country_Mexico</th>\n",
       "      <th>country_Moldova</th>\n",
       "      <th>country_Morocco</th>\n",
       "      <th>country_New Zealand</th>\n",
       "      <th>country_Peru</th>\n",
       "      <th>country_Portugal</th>\n",
       "      <th>country_Romania</th>\n",
       "      <th>country_Serbia</th>\n",
       "      <th>country_Slovakia</th>\n",
       "      <th>country_Slovenia</th>\n",
       "      <th>country_South Africa</th>\n",
       "      <th>country_Spain</th>\n",
       "      <th>country_Switzerland</th>\n",
       "      <th>country_Turkey</th>\n",
       "      <th>country_US</th>\n",
       "      <th>country_Ukraine</th>\n",
       "      <th>country_Uruguay</th>\n",
       "      <th>designation_Brut</th>\n",
       "      <th>designation_Crianza</th>\n",
       "      <th>designation_Dry</th>\n",
       "      <th>designation_Estate</th>\n",
       "      <th>designation_Estate Bottled</th>\n",
       "      <th>designation_Estate Grown</th>\n",
       "      <th>...</th>\n",
       "      <th>province_Veneto</th>\n",
       "      <th>province_Washington</th>\n",
       "      <th>region_1_Barolo</th>\n",
       "      <th>region_1_California</th>\n",
       "      <th>region_1_Columbia Valley (WA)</th>\n",
       "      <th>region_1_Finger Lakes</th>\n",
       "      <th>region_1_Mendoza</th>\n",
       "      <th>region_1_Napa Valley</th>\n",
       "      <th>region_1_Other</th>\n",
       "      <th>region_1_Paso Robles</th>\n",
       "      <th>region_1_Russian River Valley</th>\n",
       "      <th>region_1_Willamette Valley</th>\n",
       "      <th>taster_name_Anna Lee C. Iijima</th>\n",
       "      <th>taster_name_Anne Krebiehl MW</th>\n",
       "      <th>taster_name_Carrie Dykes</th>\n",
       "      <th>taster_name_Christina Pickard</th>\n",
       "      <th>taster_name_Fiona Adams</th>\n",
       "      <th>taster_name_Jeff Jenssen</th>\n",
       "      <th>taster_name_Jim Gordon</th>\n",
       "      <th>taster_name_Joe Czerwinski</th>\n",
       "      <th>taster_name_Kerin O’Keefe</th>\n",
       "      <th>taster_name_Lauren Buzzeo</th>\n",
       "      <th>taster_name_Matt Kettmann</th>\n",
       "      <th>taster_name_Michael Schachner</th>\n",
       "      <th>taster_name_Mike DeSimone</th>\n",
       "      <th>taster_name_Paul Gregutt</th>\n",
       "      <th>taster_name_Roger Voss</th>\n",
       "      <th>taster_name_Sean P. Sullivan</th>\n",
       "      <th>taster_name_Susan Kostrzewa</th>\n",
       "      <th>taster_name_Unknown</th>\n",
       "      <th>taster_name_Virginie Boone</th>\n",
       "      <th>variety_Cabernet Sauvignon</th>\n",
       "      <th>variety_Chardonnay</th>\n",
       "      <th>variety_Merlot</th>\n",
       "      <th>variety_Other</th>\n",
       "      <th>variety_Pinot Noir</th>\n",
       "      <th>variety_Red Blend</th>\n",
       "      <th>variety_Riesling</th>\n",
       "      <th>variety_Rosé</th>\n",
       "      <th>variety_Sauvignon Blanc</th>\n",
       "      <th>variety_Syrah</th>\n",
       "      <th>year_review_2008</th>\n",
       "      <th>year_review_2009</th>\n",
       "      <th>year_review_2010</th>\n",
       "      <th>year_review_2011</th>\n",
       "      <th>year_review_2012</th>\n",
       "      <th>year_review_2013</th>\n",
       "      <th>year_review_2014</th>\n",
       "      <th>year_review_2015</th>\n",
       "      <th>points</th>\n",
       "    </tr>\n",
       "  </thead>\n",
       "  <tbody>\n",
       "    <tr>\n",
       "      <th>0</th>\n",
       "      <td>-0.328446</td>\n",
       "      <td>-1.053357</td>\n",
       "      <td>0</td>\n",
       "      <td>0</td>\n",
       "      <td>0</td>\n",
       "      <td>0</td>\n",
       "      <td>0</td>\n",
       "      <td>0</td>\n",
       "      <td>0</td>\n",
       "      <td>0</td>\n",
       "      <td>0</td>\n",
       "      <td>0</td>\n",
       "      <td>0</td>\n",
       "      <td>0</td>\n",
       "      <td>0</td>\n",
       "      <td>0</td>\n",
       "      <td>0</td>\n",
       "      <td>0</td>\n",
       "      <td>0</td>\n",
       "      <td>0</td>\n",
       "      <td>0</td>\n",
       "      <td>0</td>\n",
       "      <td>0</td>\n",
       "      <td>1</td>\n",
       "      <td>0</td>\n",
       "      <td>0</td>\n",
       "      <td>0</td>\n",
       "      <td>0</td>\n",
       "      <td>0</td>\n",
       "      <td>0</td>\n",
       "      <td>0</td>\n",
       "      <td>0</td>\n",
       "      <td>0</td>\n",
       "      <td>0</td>\n",
       "      <td>0</td>\n",
       "      <td>0</td>\n",
       "      <td>0</td>\n",
       "      <td>0</td>\n",
       "      <td>0</td>\n",
       "      <td>0</td>\n",
       "      <td>0</td>\n",
       "      <td>0</td>\n",
       "      <td>0</td>\n",
       "      <td>0</td>\n",
       "      <td>0</td>\n",
       "      <td>0</td>\n",
       "      <td>0</td>\n",
       "      <td>0</td>\n",
       "      <td>0</td>\n",
       "      <td>0</td>\n",
       "      <td>...</td>\n",
       "      <td>0</td>\n",
       "      <td>0</td>\n",
       "      <td>0</td>\n",
       "      <td>0</td>\n",
       "      <td>0</td>\n",
       "      <td>0</td>\n",
       "      <td>0</td>\n",
       "      <td>0</td>\n",
       "      <td>1</td>\n",
       "      <td>0</td>\n",
       "      <td>0</td>\n",
       "      <td>0</td>\n",
       "      <td>0</td>\n",
       "      <td>0</td>\n",
       "      <td>0</td>\n",
       "      <td>0</td>\n",
       "      <td>0</td>\n",
       "      <td>0</td>\n",
       "      <td>0</td>\n",
       "      <td>0</td>\n",
       "      <td>1</td>\n",
       "      <td>0</td>\n",
       "      <td>0</td>\n",
       "      <td>0</td>\n",
       "      <td>0</td>\n",
       "      <td>0</td>\n",
       "      <td>0</td>\n",
       "      <td>0</td>\n",
       "      <td>0</td>\n",
       "      <td>0</td>\n",
       "      <td>0</td>\n",
       "      <td>0</td>\n",
       "      <td>0</td>\n",
       "      <td>0</td>\n",
       "      <td>1</td>\n",
       "      <td>0</td>\n",
       "      <td>0</td>\n",
       "      <td>0</td>\n",
       "      <td>0</td>\n",
       "      <td>0</td>\n",
       "      <td>0</td>\n",
       "      <td>0</td>\n",
       "      <td>0</td>\n",
       "      <td>0</td>\n",
       "      <td>0</td>\n",
       "      <td>0</td>\n",
       "      <td>1</td>\n",
       "      <td>0</td>\n",
       "      <td>0</td>\n",
       "      <td>87</td>\n",
       "    </tr>\n",
       "    <tr>\n",
       "      <th>1</th>\n",
       "      <td>-0.777423</td>\n",
       "      <td>-0.228975</td>\n",
       "      <td>0</td>\n",
       "      <td>0</td>\n",
       "      <td>0</td>\n",
       "      <td>0</td>\n",
       "      <td>0</td>\n",
       "      <td>0</td>\n",
       "      <td>0</td>\n",
       "      <td>0</td>\n",
       "      <td>0</td>\n",
       "      <td>0</td>\n",
       "      <td>0</td>\n",
       "      <td>0</td>\n",
       "      <td>0</td>\n",
       "      <td>0</td>\n",
       "      <td>0</td>\n",
       "      <td>0</td>\n",
       "      <td>0</td>\n",
       "      <td>0</td>\n",
       "      <td>0</td>\n",
       "      <td>0</td>\n",
       "      <td>0</td>\n",
       "      <td>0</td>\n",
       "      <td>0</td>\n",
       "      <td>0</td>\n",
       "      <td>0</td>\n",
       "      <td>0</td>\n",
       "      <td>0</td>\n",
       "      <td>0</td>\n",
       "      <td>0</td>\n",
       "      <td>0</td>\n",
       "      <td>1</td>\n",
       "      <td>0</td>\n",
       "      <td>0</td>\n",
       "      <td>0</td>\n",
       "      <td>0</td>\n",
       "      <td>0</td>\n",
       "      <td>0</td>\n",
       "      <td>0</td>\n",
       "      <td>0</td>\n",
       "      <td>0</td>\n",
       "      <td>0</td>\n",
       "      <td>0</td>\n",
       "      <td>0</td>\n",
       "      <td>0</td>\n",
       "      <td>0</td>\n",
       "      <td>0</td>\n",
       "      <td>0</td>\n",
       "      <td>0</td>\n",
       "      <td>...</td>\n",
       "      <td>0</td>\n",
       "      <td>0</td>\n",
       "      <td>0</td>\n",
       "      <td>0</td>\n",
       "      <td>0</td>\n",
       "      <td>0</td>\n",
       "      <td>0</td>\n",
       "      <td>0</td>\n",
       "      <td>1</td>\n",
       "      <td>0</td>\n",
       "      <td>0</td>\n",
       "      <td>0</td>\n",
       "      <td>0</td>\n",
       "      <td>0</td>\n",
       "      <td>0</td>\n",
       "      <td>0</td>\n",
       "      <td>0</td>\n",
       "      <td>0</td>\n",
       "      <td>0</td>\n",
       "      <td>0</td>\n",
       "      <td>0</td>\n",
       "      <td>0</td>\n",
       "      <td>0</td>\n",
       "      <td>0</td>\n",
       "      <td>0</td>\n",
       "      <td>0</td>\n",
       "      <td>1</td>\n",
       "      <td>0</td>\n",
       "      <td>0</td>\n",
       "      <td>0</td>\n",
       "      <td>0</td>\n",
       "      <td>0</td>\n",
       "      <td>0</td>\n",
       "      <td>0</td>\n",
       "      <td>1</td>\n",
       "      <td>0</td>\n",
       "      <td>0</td>\n",
       "      <td>0</td>\n",
       "      <td>0</td>\n",
       "      <td>0</td>\n",
       "      <td>0</td>\n",
       "      <td>0</td>\n",
       "      <td>0</td>\n",
       "      <td>0</td>\n",
       "      <td>1</td>\n",
       "      <td>0</td>\n",
       "      <td>0</td>\n",
       "      <td>0</td>\n",
       "      <td>0</td>\n",
       "      <td>87</td>\n",
       "    </tr>\n",
       "    <tr>\n",
       "      <th>2</th>\n",
       "      <td>-0.822321</td>\n",
       "      <td>-0.843514</td>\n",
       "      <td>0</td>\n",
       "      <td>0</td>\n",
       "      <td>0</td>\n",
       "      <td>0</td>\n",
       "      <td>0</td>\n",
       "      <td>0</td>\n",
       "      <td>0</td>\n",
       "      <td>0</td>\n",
       "      <td>0</td>\n",
       "      <td>0</td>\n",
       "      <td>0</td>\n",
       "      <td>0</td>\n",
       "      <td>0</td>\n",
       "      <td>0</td>\n",
       "      <td>0</td>\n",
       "      <td>0</td>\n",
       "      <td>0</td>\n",
       "      <td>0</td>\n",
       "      <td>0</td>\n",
       "      <td>0</td>\n",
       "      <td>0</td>\n",
       "      <td>0</td>\n",
       "      <td>0</td>\n",
       "      <td>0</td>\n",
       "      <td>0</td>\n",
       "      <td>0</td>\n",
       "      <td>0</td>\n",
       "      <td>0</td>\n",
       "      <td>0</td>\n",
       "      <td>0</td>\n",
       "      <td>0</td>\n",
       "      <td>0</td>\n",
       "      <td>0</td>\n",
       "      <td>0</td>\n",
       "      <td>0</td>\n",
       "      <td>0</td>\n",
       "      <td>0</td>\n",
       "      <td>0</td>\n",
       "      <td>0</td>\n",
       "      <td>1</td>\n",
       "      <td>0</td>\n",
       "      <td>0</td>\n",
       "      <td>0</td>\n",
       "      <td>0</td>\n",
       "      <td>0</td>\n",
       "      <td>0</td>\n",
       "      <td>0</td>\n",
       "      <td>0</td>\n",
       "      <td>...</td>\n",
       "      <td>0</td>\n",
       "      <td>0</td>\n",
       "      <td>0</td>\n",
       "      <td>0</td>\n",
       "      <td>0</td>\n",
       "      <td>0</td>\n",
       "      <td>0</td>\n",
       "      <td>0</td>\n",
       "      <td>0</td>\n",
       "      <td>0</td>\n",
       "      <td>0</td>\n",
       "      <td>1</td>\n",
       "      <td>0</td>\n",
       "      <td>0</td>\n",
       "      <td>0</td>\n",
       "      <td>0</td>\n",
       "      <td>0</td>\n",
       "      <td>0</td>\n",
       "      <td>0</td>\n",
       "      <td>0</td>\n",
       "      <td>0</td>\n",
       "      <td>0</td>\n",
       "      <td>0</td>\n",
       "      <td>0</td>\n",
       "      <td>0</td>\n",
       "      <td>1</td>\n",
       "      <td>0</td>\n",
       "      <td>0</td>\n",
       "      <td>0</td>\n",
       "      <td>0</td>\n",
       "      <td>0</td>\n",
       "      <td>0</td>\n",
       "      <td>0</td>\n",
       "      <td>0</td>\n",
       "      <td>1</td>\n",
       "      <td>0</td>\n",
       "      <td>0</td>\n",
       "      <td>0</td>\n",
       "      <td>0</td>\n",
       "      <td>0</td>\n",
       "      <td>0</td>\n",
       "      <td>0</td>\n",
       "      <td>0</td>\n",
       "      <td>0</td>\n",
       "      <td>0</td>\n",
       "      <td>0</td>\n",
       "      <td>1</td>\n",
       "      <td>0</td>\n",
       "      <td>0</td>\n",
       "      <td>87</td>\n",
       "    </tr>\n",
       "    <tr>\n",
       "      <th>3</th>\n",
       "      <td>-0.867219</td>\n",
       "      <td>-0.648660</td>\n",
       "      <td>0</td>\n",
       "      <td>0</td>\n",
       "      <td>0</td>\n",
       "      <td>0</td>\n",
       "      <td>0</td>\n",
       "      <td>0</td>\n",
       "      <td>0</td>\n",
       "      <td>0</td>\n",
       "      <td>0</td>\n",
       "      <td>0</td>\n",
       "      <td>0</td>\n",
       "      <td>0</td>\n",
       "      <td>0</td>\n",
       "      <td>0</td>\n",
       "      <td>0</td>\n",
       "      <td>0</td>\n",
       "      <td>0</td>\n",
       "      <td>0</td>\n",
       "      <td>0</td>\n",
       "      <td>0</td>\n",
       "      <td>0</td>\n",
       "      <td>0</td>\n",
       "      <td>0</td>\n",
       "      <td>0</td>\n",
       "      <td>0</td>\n",
       "      <td>0</td>\n",
       "      <td>0</td>\n",
       "      <td>0</td>\n",
       "      <td>0</td>\n",
       "      <td>0</td>\n",
       "      <td>0</td>\n",
       "      <td>0</td>\n",
       "      <td>0</td>\n",
       "      <td>0</td>\n",
       "      <td>0</td>\n",
       "      <td>0</td>\n",
       "      <td>0</td>\n",
       "      <td>0</td>\n",
       "      <td>0</td>\n",
       "      <td>1</td>\n",
       "      <td>0</td>\n",
       "      <td>0</td>\n",
       "      <td>0</td>\n",
       "      <td>0</td>\n",
       "      <td>0</td>\n",
       "      <td>0</td>\n",
       "      <td>0</td>\n",
       "      <td>0</td>\n",
       "      <td>...</td>\n",
       "      <td>0</td>\n",
       "      <td>0</td>\n",
       "      <td>0</td>\n",
       "      <td>0</td>\n",
       "      <td>0</td>\n",
       "      <td>0</td>\n",
       "      <td>0</td>\n",
       "      <td>0</td>\n",
       "      <td>1</td>\n",
       "      <td>0</td>\n",
       "      <td>0</td>\n",
       "      <td>0</td>\n",
       "      <td>0</td>\n",
       "      <td>0</td>\n",
       "      <td>0</td>\n",
       "      <td>0</td>\n",
       "      <td>0</td>\n",
       "      <td>0</td>\n",
       "      <td>0</td>\n",
       "      <td>0</td>\n",
       "      <td>0</td>\n",
       "      <td>0</td>\n",
       "      <td>0</td>\n",
       "      <td>0</td>\n",
       "      <td>0</td>\n",
       "      <td>0</td>\n",
       "      <td>0</td>\n",
       "      <td>0</td>\n",
       "      <td>0</td>\n",
       "      <td>0</td>\n",
       "      <td>0</td>\n",
       "      <td>0</td>\n",
       "      <td>0</td>\n",
       "      <td>0</td>\n",
       "      <td>0</td>\n",
       "      <td>0</td>\n",
       "      <td>0</td>\n",
       "      <td>1</td>\n",
       "      <td>0</td>\n",
       "      <td>0</td>\n",
       "      <td>0</td>\n",
       "      <td>0</td>\n",
       "      <td>0</td>\n",
       "      <td>0</td>\n",
       "      <td>0</td>\n",
       "      <td>0</td>\n",
       "      <td>1</td>\n",
       "      <td>0</td>\n",
       "      <td>0</td>\n",
       "      <td>87</td>\n",
       "    </tr>\n",
       "    <tr>\n",
       "      <th>4</th>\n",
       "      <td>1.467461</td>\n",
       "      <td>0.100778</td>\n",
       "      <td>0</td>\n",
       "      <td>0</td>\n",
       "      <td>0</td>\n",
       "      <td>0</td>\n",
       "      <td>0</td>\n",
       "      <td>0</td>\n",
       "      <td>0</td>\n",
       "      <td>0</td>\n",
       "      <td>0</td>\n",
       "      <td>0</td>\n",
       "      <td>0</td>\n",
       "      <td>0</td>\n",
       "      <td>0</td>\n",
       "      <td>0</td>\n",
       "      <td>0</td>\n",
       "      <td>0</td>\n",
       "      <td>0</td>\n",
       "      <td>0</td>\n",
       "      <td>0</td>\n",
       "      <td>0</td>\n",
       "      <td>0</td>\n",
       "      <td>0</td>\n",
       "      <td>0</td>\n",
       "      <td>0</td>\n",
       "      <td>0</td>\n",
       "      <td>0</td>\n",
       "      <td>0</td>\n",
       "      <td>0</td>\n",
       "      <td>0</td>\n",
       "      <td>0</td>\n",
       "      <td>0</td>\n",
       "      <td>0</td>\n",
       "      <td>0</td>\n",
       "      <td>0</td>\n",
       "      <td>0</td>\n",
       "      <td>0</td>\n",
       "      <td>0</td>\n",
       "      <td>0</td>\n",
       "      <td>0</td>\n",
       "      <td>1</td>\n",
       "      <td>0</td>\n",
       "      <td>0</td>\n",
       "      <td>0</td>\n",
       "      <td>0</td>\n",
       "      <td>0</td>\n",
       "      <td>0</td>\n",
       "      <td>0</td>\n",
       "      <td>0</td>\n",
       "      <td>...</td>\n",
       "      <td>0</td>\n",
       "      <td>0</td>\n",
       "      <td>0</td>\n",
       "      <td>0</td>\n",
       "      <td>0</td>\n",
       "      <td>0</td>\n",
       "      <td>0</td>\n",
       "      <td>0</td>\n",
       "      <td>0</td>\n",
       "      <td>0</td>\n",
       "      <td>0</td>\n",
       "      <td>1</td>\n",
       "      <td>0</td>\n",
       "      <td>0</td>\n",
       "      <td>0</td>\n",
       "      <td>0</td>\n",
       "      <td>0</td>\n",
       "      <td>0</td>\n",
       "      <td>0</td>\n",
       "      <td>0</td>\n",
       "      <td>0</td>\n",
       "      <td>0</td>\n",
       "      <td>0</td>\n",
       "      <td>0</td>\n",
       "      <td>0</td>\n",
       "      <td>1</td>\n",
       "      <td>0</td>\n",
       "      <td>0</td>\n",
       "      <td>0</td>\n",
       "      <td>0</td>\n",
       "      <td>0</td>\n",
       "      <td>0</td>\n",
       "      <td>0</td>\n",
       "      <td>0</td>\n",
       "      <td>0</td>\n",
       "      <td>1</td>\n",
       "      <td>0</td>\n",
       "      <td>0</td>\n",
       "      <td>0</td>\n",
       "      <td>0</td>\n",
       "      <td>0</td>\n",
       "      <td>0</td>\n",
       "      <td>0</td>\n",
       "      <td>0</td>\n",
       "      <td>0</td>\n",
       "      <td>1</td>\n",
       "      <td>0</td>\n",
       "      <td>0</td>\n",
       "      <td>0</td>\n",
       "      <td>87</td>\n",
       "    </tr>\n",
       "  </tbody>\n",
       "</table>\n",
       "<p>5 rows × 122 columns</p>\n",
       "</div>"
      ],
      "text/plain": [
       "    price_x  length_description_x  country_Armenia  country_Australia  country_Austria  country_Bosnia and Herzegovina  country_Brazil  country_Bulgaria  country_Canada  country_Chile  country_China  country_Croatia  country_Cyprus  country_Czech Republic  country_Egypt  country_England  country_France  country_Georgia  country_Germany  country_Greece  country_Hungary  country_India  country_Israel  country_Italy  country_Lebanon  country_Luxembourg  country_Macedonia  country_Mexico  \\\n",
       "0 -0.328446             -1.053357                0                  0                0                               0               0                 0               0              0              0                0               0                       0              0                0               0                0                0               0                0              0               0              1                0                   0                  0               0   \n",
       "1 -0.777423             -0.228975                0                  0                0                               0               0                 0               0              0              0                0               0                       0              0                0               0                0                0               0                0              0               0              0                0                   0                  0               0   \n",
       "2 -0.822321             -0.843514                0                  0                0                               0               0                 0               0              0              0                0               0                       0              0                0               0                0                0               0                0              0               0              0                0                   0                  0               0   \n",
       "3 -0.867219             -0.648660                0                  0                0                               0               0                 0               0              0              0                0               0                       0              0                0               0                0                0               0                0              0               0              0                0                   0                  0               0   \n",
       "4  1.467461              0.100778                0                  0                0                               0               0                 0               0              0              0                0               0                       0              0                0               0                0                0               0                0              0               0              0                0                   0                  0               0   \n",
       "\n",
       "   country_Moldova  country_Morocco  country_New Zealand  country_Peru  country_Portugal  country_Romania  country_Serbia  country_Slovakia  country_Slovenia  country_South Africa  country_Spain  country_Switzerland  country_Turkey  country_US  country_Ukraine  country_Uruguay  designation_Brut  designation_Crianza  designation_Dry  designation_Estate  designation_Estate Bottled  designation_Estate Grown   ...    province_Veneto  province_Washington  region_1_Barolo  region_1_California  \\\n",
       "0                0                0                    0             0                 0                0               0                 0                 0                     0              0                    0               0           0                0                0                 0                    0                0                   0                           0                         0   ...                  0                    0                0                    0   \n",
       "1                0                0                    0             0                 1                0               0                 0                 0                     0              0                    0               0           0                0                0                 0                    0                0                   0                           0                         0   ...                  0                    0                0                    0   \n",
       "2                0                0                    0             0                 0                0               0                 0                 0                     0              0                    0               0           1                0                0                 0                    0                0                   0                           0                         0   ...                  0                    0                0                    0   \n",
       "3                0                0                    0             0                 0                0               0                 0                 0                     0              0                    0               0           1                0                0                 0                    0                0                   0                           0                         0   ...                  0                    0                0                    0   \n",
       "4                0                0                    0             0                 0                0               0                 0                 0                     0              0                    0               0           1                0                0                 0                    0                0                   0                           0                         0   ...                  0                    0                0                    0   \n",
       "\n",
       "   region_1_Columbia Valley (WA)  region_1_Finger Lakes  region_1_Mendoza  region_1_Napa Valley  region_1_Other  region_1_Paso Robles  region_1_Russian River Valley  region_1_Willamette Valley  taster_name_Anna Lee C. Iijima  taster_name_Anne Krebiehl MW  taster_name_Carrie Dykes  taster_name_Christina Pickard  taster_name_Fiona Adams  taster_name_Jeff Jenssen  taster_name_Jim Gordon  taster_name_Joe Czerwinski  taster_name_Kerin O’Keefe  taster_name_Lauren Buzzeo  taster_name_Matt Kettmann  \\\n",
       "0                              0                      0                 0                     0               1                     0                              0                           0                               0                             0                         0                              0                        0                         0                       0                           0                          1                          0                          0   \n",
       "1                              0                      0                 0                     0               1                     0                              0                           0                               0                             0                         0                              0                        0                         0                       0                           0                          0                          0                          0   \n",
       "2                              0                      0                 0                     0               0                     0                              0                           1                               0                             0                         0                              0                        0                         0                       0                           0                          0                          0                          0   \n",
       "3                              0                      0                 0                     0               1                     0                              0                           0                               0                             0                         0                              0                        0                         0                       0                           0                          0                          0                          0   \n",
       "4                              0                      0                 0                     0               0                     0                              0                           1                               0                             0                         0                              0                        0                         0                       0                           0                          0                          0                          0   \n",
       "\n",
       "   taster_name_Michael Schachner  taster_name_Mike DeSimone  taster_name_Paul Gregutt  taster_name_Roger Voss  taster_name_Sean P. Sullivan  taster_name_Susan Kostrzewa  taster_name_Unknown  taster_name_Virginie Boone  variety_Cabernet Sauvignon  variety_Chardonnay  variety_Merlot  variety_Other  variety_Pinot Noir  variety_Red Blend  variety_Riesling  variety_Rosé  variety_Sauvignon Blanc  variety_Syrah  year_review_2008  year_review_2009  year_review_2010  year_review_2011  year_review_2012  \\\n",
       "0                              0                          0                         0                       0                             0                            0                    0                           0                           0                   0               0              1                   0                  0                 0             0                        0              0                 0                 0                 0                 0                 0   \n",
       "1                              0                          0                         0                       1                             0                            0                    0                           0                           0                   0               0              1                   0                  0                 0             0                        0              0                 0                 0                 0                 1                 0   \n",
       "2                              0                          0                         1                       0                             0                            0                    0                           0                           0                   0               0              1                   0                  0                 0             0                        0              0                 0                 0                 0                 0                 0   \n",
       "3                              0                          0                         0                       0                             0                            0                    0                           0                           0                   0               0              0                   0                  0                 1             0                        0              0                 0                 0                 0                 0                 0   \n",
       "4                              0                          0                         1                       0                             0                            0                    0                           0                           0                   0               0              0                   1                  0                 0             0                        0              0                 0                 0                 0                 0                 1   \n",
       "\n",
       "   year_review_2013  year_review_2014  year_review_2015  points  \n",
       "0                 1                 0                 0      87  \n",
       "1                 0                 0                 0      87  \n",
       "2                 1                 0                 0      87  \n",
       "3                 1                 0                 0      87  \n",
       "4                 0                 0                 0      87  \n",
       "\n",
       "[5 rows x 122 columns]"
      ]
     },
     "execution_count": 555,
     "metadata": {},
     "output_type": "execute_result"
    }
   ],
   "source": [
    "df.head()"
   ]
  },
  {
   "cell_type": "markdown",
   "metadata": {},
   "source": [
    "## Split training-test data "
   ]
  },
  {
   "cell_type": "code",
   "execution_count": 556,
   "metadata": {},
   "outputs": [],
   "source": [
    "X = df.drop('points', axis=1)\n",
    "y = df['points']"
   ]
  },
  {
   "cell_type": "code",
   "execution_count": 557,
   "metadata": {},
   "outputs": [],
   "source": [
    "from sklearn.cross_validation import train_test_split\n",
    "X_train, X_test, y_train, y_test = train_test_split(X, y, test_size=0.33, random_state=101)"
   ]
  },
  {
   "cell_type": "markdown",
   "metadata": {},
   "source": [
    "## Testing different regressor algorithms "
   ]
  },
  {
   "cell_type": "markdown",
   "metadata": {},
   "source": [
    "Regressor algorithms to test:\n",
    "\n",
    "1. LinearRegression\n",
    "\n",
    "2. Ridge\n",
    "\n",
    "3. DecisionTreeRegressor\n",
    "\n",
    "4. RandomForestRegressor\n",
    "\n",
    "5. AdaBoost Regressor \n",
    "\n",
    "6. XGBoost"
   ]
  },
  {
   "cell_type": "markdown",
   "metadata": {},
   "source": [
    "### 1. Linear Regression"
   ]
  },
  {
   "cell_type": "code",
   "execution_count": 558,
   "metadata": {},
   "outputs": [],
   "source": [
    "from sklearn.linear_model import LinearRegression"
   ]
  },
  {
   "cell_type": "code",
   "execution_count": 559,
   "metadata": {},
   "outputs": [],
   "source": [
    "lr = LinearRegression()"
   ]
  },
  {
   "cell_type": "code",
   "execution_count": 560,
   "metadata": {},
   "outputs": [
    {
     "data": {
      "text/plain": [
       "LinearRegression(copy_X=True, fit_intercept=True, n_jobs=1, normalize=False)"
      ]
     },
     "execution_count": 560,
     "metadata": {},
     "output_type": "execute_result"
    }
   ],
   "source": [
    "lr.fit(X_train,y_train)"
   ]
  },
  {
   "cell_type": "code",
   "execution_count": 561,
   "metadata": {},
   "outputs": [],
   "source": [
    "lr_predictions = lr.predict(X_test)"
   ]
  },
  {
   "cell_type": "code",
   "execution_count": 562,
   "metadata": {},
   "outputs": [],
   "source": [
    "# Evaluate model\n",
    "from sklearn.metrics import explained_variance_score, mean_squared_error, mean_absolute_error"
   ]
  },
  {
   "cell_type": "code",
   "execution_count": 563,
   "metadata": {},
   "outputs": [
    {
     "data": {
      "text/plain": [
       "<matplotlib.axes._subplots.AxesSubplot at 0x26b01b6b518>"
      ]
     },
     "execution_count": 563,
     "metadata": {},
     "output_type": "execute_result"
    },
    {
     "data": {
      "image/png": "[encoded data removed]",
      "text/plain": [
       "<Figure size 432x288 with 1 Axes>"
      ]
     },
     "metadata": {},
     "output_type": "display_data"
    }
   ],
   "source": [
    "sns.scatterplot(lr_predictions,y_test)"
   ]
  },
  {
   "cell_type": "code",
   "execution_count": 564,
   "metadata": {},
   "outputs": [],
   "source": [
    "MAE_lr = mean_absolute_error(y_test, lr_predictions)\n",
    "MSE_lr = mean_squared_error(y_test, lr_predictions)\n",
    "var_lr = explained_variance_score(y_test, lr_predictions)"
   ]
  },
  {
   "cell_type": "code",
   "execution_count": 565,
   "metadata": {},
   "outputs": [
    {
     "name": "stdout",
     "output_type": "stream",
     "text": [
      "MAE :2.2351985542766553\n",
      "MSE :7.620577070399357\n",
      "Explained variance :0.17543793458320178\n"
     ]
    }
   ],
   "source": [
    "print(\"MAE :\" + str(MAE_lr))\n",
    "print(\"MSE :\" + str(MSE_lr))\n",
    "print(\"Explained variance :\" + str(var_lr))"
   ]
  },
  {
   "cell_type": "markdown",
   "metadata": {},
   "source": [
    "### 2. Ridge Regression "
   ]
  },
  {
   "cell_type": "code",
   "execution_count": 575,
   "metadata": {},
   "outputs": [],
   "source": [
    "from sklearn.linear_model import Ridge"
   ]
  },
  {
   "cell_type": "code",
   "execution_count": 576,
   "metadata": {},
   "outputs": [
    {
     "name": "stdout",
     "output_type": "stream",
     "text": [
      "Fitting 10 folds for each of 48 candidates, totalling 480 fits\n",
      "0.17669042154927084\n",
      "{'alpha': 0.5, 'normalize': False, 'tol': 1e-06}\n"
     ]
    },
    {
     "name": "stderr",
     "output_type": "stream",
     "text": [
      "[Parallel(n_jobs=1)]: Done 480 out of 480 | elapsed:  2.6min finished\n"
     ]
    }
   ],
   "source": [
    "ridge = Ridge()\n",
    "parameters = {'alpha':[0.001,0.005,0.01,0.1,0.5,1], 'normalize':[True,False], 'tol':[1e-06,5e-06,1e-05,5e-05]}\n",
    "grid_ridge = GridSearchCV(ridge, parameters, cv=10, verbose=1, scoring = 'explained_variance')\n",
    "grid_ridge.fit(X_train, y_train)\n",
    "\n",
    "print(grid_ridge.best_score_)\n",
    "print(grid_ridge.best_params_)"
   ]
  },
  {
   "cell_type": "code",
   "execution_count": null,
   "metadata": {},
   "outputs": [],
   "source": [
    "best_ridge = grid_ridge.best_params_"
   ]
  },
  {
   "cell_type": "code",
   "execution_count": null,
   "metadata": {},
   "outputs": [],
   "source": []
  },
  {
   "cell_type": "markdown",
   "metadata": {},
   "source": [
    "### 6. XGBoost "
   ]
  },
  {
   "cell_type": "code",
   "execution_count": 566,
   "metadata": {},
   "outputs": [],
   "source": [
    "import xgboost"
   ]
  },
  {
   "cell_type": "code",
   "execution_count": 567,
   "metadata": {},
   "outputs": [],
   "source": [
    "xgb = xgboost.XGBRegressor(n_estimators=100, learning_rate=0.08, gamma=0, subsample=0.75,\n",
    "                           colsample_bytree=1, max_depth=7)"
   ]
  },
  {
   "cell_type": "code",
   "execution_count": 568,
   "metadata": {},
   "outputs": [
    {
     "data": {
      "text/plain": [
       "XGBRegressor(base_score=0.5, booster='gbtree', colsample_bylevel=1,\n",
       "       colsample_bytree=1, gamma=0, learning_rate=0.08, max_delta_step=0,\n",
       "       max_depth=7, min_child_weight=1, missing=None, n_estimators=100,\n",
       "       n_jobs=1, nthread=None, objective='reg:linear', random_state=0,\n",
       "       reg_alpha=0, reg_lambda=1, scale_pos_weight=1, seed=None,\n",
       "       silent=True, subsample=0.75)"
      ]
     },
     "execution_count": 568,
     "metadata": {},
     "output_type": "execute_result"
    }
   ],
   "source": [
    "xgb.fit(X_train,y_train)"
   ]
  },
  {
   "cell_type": "code",
   "execution_count": 569,
   "metadata": {},
   "outputs": [
    {
     "name": "stdout",
     "output_type": "stream",
     "text": [
      "-3.651354989571245\n"
     ]
    }
   ],
   "source": [
    "predictions_xgb = xgb.predict(X_test)\n",
    "print(explained_variance_score(predictions_xgb,y_test))"
   ]
  },
  {
   "cell_type": "code",
   "execution_count": null,
   "metadata": {},
   "outputs": [],
   "source": []
  }
 ],
 "metadata": {
  "kernelspec": {
   "display_name": "Python 3",
   "language": "python",
   "name": "python3"
  },
  "language_info": {
   "codemirror_mode": {
    "name": "ipython",
    "version": 3
   },
   "file_extension": ".py",
   "mimetype": "text/x-python",
   "name": "python",
   "nbconvert_exporter": "python",
   "pygments_lexer": "ipython3",
   "version": "3.6.5"
  }
 },
 "nbformat": 4,
 "nbformat_minor": 2
}
